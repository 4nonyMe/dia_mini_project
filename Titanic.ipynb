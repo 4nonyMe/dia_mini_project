{
 "cells": [
  {
   "cell_type": "code",
   "execution_count": 1,
   "id": "f07d1fa6-8b21-4731-b47b-b36c1d02b3df",
   "metadata": {},
   "outputs": [],
   "source": [
    "import numpy as np\n",
    "import pandas as pd\n",
    "from sklearn.linear_model import LogisticRegression\n",
    "from sklearn.model_selection import train_test_split\n",
    "import sklearn.metrics as metrics"
   ]
  },
  {
   "cell_type": "code",
   "execution_count": 2,
   "id": "c3024093-501c-4c82-b831-07a93b94d8e6",
   "metadata": {},
   "outputs": [],
   "source": [
    "df_ti_train=pd.read_csv(\"C:/Users/Augustin/Desktop/Dorset 23/DIA/Titanic/train.csv\")\n",
    "df_ti_test=pd.read_csv(\"C:/Users/Augustin/Desktop/Dorset 23/DIA/Titanic/test.csv\")\n",
    "df_ti_test_res=pd.read_csv(\"C:/Users/Augustin/Desktop/Dorset 23/DIA/Titanic/gender_submission.csv\")"
   ]
  },
  {
   "cell_type": "code",
   "execution_count": 3,
   "id": "60fb9f48-8f55-4e4d-a77e-06e37a626354",
   "metadata": {},
   "outputs": [
    {
     "name": "stdout",
     "output_type": "stream",
     "text": [
      "   PassengerId  Survived  Pclass  \\\n",
      "0            1         0       3   \n",
      "1            2         1       1   \n",
      "2            3         1       3   \n",
      "3            4         1       1   \n",
      "4            5         0       3   \n",
      "\n",
      "                                                Name     Sex   Age  SibSp  \\\n",
      "0                            Braund, Mr. Owen Harris    male  22.0      1   \n",
      "1  Cumings, Mrs. John Bradley (Florence Briggs Th...  female  38.0      1   \n",
      "2                             Heikkinen, Miss. Laina  female  26.0      0   \n",
      "3       Futrelle, Mrs. Jacques Heath (Lily May Peel)  female  35.0      1   \n",
      "4                           Allen, Mr. William Henry    male  35.0      0   \n",
      "\n",
      "   Parch            Ticket     Fare Cabin Embarked  \n",
      "0      0         A/5 21171   7.2500   NaN        S  \n",
      "1      0          PC 17599  71.2833   C85        C  \n",
      "2      0  STON/O2. 3101282   7.9250   NaN        S  \n",
      "3      0            113803  53.1000  C123        S  \n",
      "4      0            373450   8.0500   NaN        S  \n"
     ]
    }
   ],
   "source": [
    "print(df_ti_train.head())"
   ]
  },
  {
   "cell_type": "code",
   "execution_count": 4,
   "id": "16e39b9a-a0e7-4247-9c1a-efff79bf408f",
   "metadata": {},
   "outputs": [],
   "source": [
    "df_ti_1=df_ti_train.drop(\"PassengerId\", axis=1)\n",
    "df_ti_1=df_ti_1.drop(\"Ticket\", axis=1)\n",
    "df_ti_2=df_ti_test.copy()\n",
    "df_ti_2=df_ti_2.drop(\"Ticket\", axis=1)"
   ]
  },
  {
   "cell_type": "code",
   "execution_count": 5,
   "id": "b05974e2-b747-4b86-bfb6-5759950568c5",
   "metadata": {},
   "outputs": [
    {
     "name": "stdout",
     "output_type": "stream",
     "text": [
      "0         NaN\n",
      "1         C85\n",
      "2         NaN\n",
      "3        C123\n",
      "4         NaN\n",
      "       ...   \n",
      "95        NaN\n",
      "96         A5\n",
      "97    D10 D12\n",
      "98        NaN\n",
      "99        NaN\n",
      "Name: Cabin, Length: 100, dtype: object\n",
      "_____________________________\n",
      "   PassengerId  Pclass                                          Name     Sex  \\\n",
      "0          892       3                              Kelly, Mr. James    male   \n",
      "1          893       3              Wilkes, Mrs. James (Ellen Needs)  female   \n",
      "2          894       2                     Myles, Mr. Thomas Francis    male   \n",
      "3          895       3                              Wirz, Mr. Albert    male   \n",
      "4          896       3  Hirvonen, Mrs. Alexander (Helga E Lindqvist)  female   \n",
      "5          897       3                    Svensson, Mr. Johan Cervin    male   \n",
      "6          898       3                          Connolly, Miss. Kate  female   \n",
      "7          899       2                  Caldwell, Mr. Albert Francis    male   \n",
      "8          900       3     Abrahim, Mrs. Joseph (Sophie Halaut Easu)  female   \n",
      "9          901       3                       Davies, Mr. John Samuel    male   \n",
      "\n",
      "    Age  SibSp  Parch     Fare Cabin Embarked  \n",
      "0  34.5      0      0   7.8292   NaN        Q  \n",
      "1  47.0      1      0   7.0000   NaN        S  \n",
      "2  62.0      0      0   9.6875   NaN        Q  \n",
      "3  27.0      0      0   8.6625   NaN        S  \n",
      "4  22.0      1      1  12.2875   NaN        S  \n",
      "5  14.0      0      0   9.2250   NaN        S  \n",
      "6  30.0      0      0   7.6292   NaN        Q  \n",
      "7  26.0      1      1  29.0000   NaN        S  \n",
      "8  18.0      0      0   7.2292   NaN        C  \n",
      "9  21.0      2      0  24.1500   NaN        S  \n"
     ]
    }
   ],
   "source": [
    "print(df_ti_1['Cabin'].head(100))\n",
    "print(\"_____________________________\")\n",
    "print(df_ti_2.head(10))"
   ]
  },
  {
   "cell_type": "code",
   "execution_count": 6,
   "id": "a9c95c1d-1533-42a2-af64-20a317be4f28",
   "metadata": {},
   "outputs": [
    {
     "name": "stdout",
     "output_type": "stream",
     "text": [
      "0          U0\n",
      "1         C85\n",
      "2          U0\n",
      "3        C123\n",
      "4          U0\n",
      "       ...   \n",
      "95         U0\n",
      "96         A5\n",
      "97    D10 D12\n",
      "98         U0\n",
      "99         U0\n",
      "Name: Cabin, Length: 100, dtype: object\n",
      "0      U0\n",
      "1      U0\n",
      "2      U0\n",
      "3      U0\n",
      "4      U0\n",
      "     ... \n",
      "95     U0\n",
      "96    C46\n",
      "97     U0\n",
      "98     U0\n",
      "99     U0\n",
      "Name: Cabin, Length: 100, dtype: object\n"
     ]
    }
   ],
   "source": [
    "deck = {\"A\": 1, \"B\": 2, \"C\": 3, \"D\": 4, \"E\": 5, \"F\": 6, \"G\": 7, \"U\": 8}\n",
    "df_ti_1['Cabin']=df_ti_1['Cabin'].fillna('U0')\n",
    "df_ti_2['Cabin']=df_ti_2['Cabin'].fillna('U0')\n",
    "print(df_ti_1['Cabin'].head(100))\n",
    "print(df_ti_2['Cabin'].head(100))"
   ]
  },
  {
   "cell_type": "code",
   "execution_count": 7,
   "id": "4cbec771-efc3-4212-bb4a-9e258f142dbc",
   "metadata": {},
   "outputs": [],
   "source": [
    "import re\n",
    "df_ti_1['Deck'] = df_ti_1['Cabin'].map(lambda x: re.compile(\"([a-zA-Z]+)\").search(x).group() if re.compile(\"([a-zA-Z]+)\").search(x) else 'U')\n",
    "df_ti_1['Deck'] = df_ti_1['Deck'].map(deck)\n",
    "df_ti_1['Deck'] = df_ti_1['Deck'].fillna(0)\n",
    "df_ti_1['Deck'] = df_ti_1['Deck'].astype(int)\n",
    "\n",
    "df_ti_2['Deck'] = df_ti_2['Cabin'].map(lambda x: re.compile(\"([a-zA-Z]+)\").search(x).group() if re.compile(\"([a-zA-Z]+)\").search(x) else 'U')\n",
    "df_ti_2['Deck'] = df_ti_2['Deck'].map(deck)\n",
    "df_ti_2['Deck'] = df_ti_2['Deck'].fillna(0)\n",
    "df_ti_2['Deck'] = df_ti_2['Deck'].astype(int)"
   ]
  },
  {
   "cell_type": "code",
   "execution_count": 8,
   "id": "17542951-ceaf-4db3-b8db-30a82ecf23d9",
   "metadata": {},
   "outputs": [],
   "source": [
    "df_ti_1=df_ti_1.drop(\"Cabin\", axis=1)\n",
    "df_ti_2=df_ti_2.drop(\"Cabin\", axis=1)"
   ]
  },
  {
   "cell_type": "code",
   "execution_count": 9,
   "id": "e34c5c3a-dd5b-42f3-99b4-c6bac08fef21",
   "metadata": {},
   "outputs": [
    {
     "name": "stdout",
     "output_type": "stream",
     "text": [
      "   Survived  Pclass                                               Name  \\\n",
      "0         0       3                            Braund, Mr. Owen Harris   \n",
      "1         1       1  Cumings, Mrs. John Bradley (Florence Briggs Th...   \n",
      "2         1       3                             Heikkinen, Miss. Laina   \n",
      "3         1       1       Futrelle, Mrs. Jacques Heath (Lily May Peel)   \n",
      "4         0       3                           Allen, Mr. William Henry   \n",
      "\n",
      "      Sex   Age  SibSp  Parch     Fare Embarked  Deck  \n",
      "0    male  22.0      1      0   7.2500        S     8  \n",
      "1  female  38.0      1      0  71.2833        C     3  \n",
      "2  female  26.0      0      0   7.9250        S     8  \n",
      "3  female  35.0      1      0  53.1000        S     3  \n",
      "4    male  35.0      0      0   8.0500        S     8  \n",
      "   PassengerId  Pclass                                          Name     Sex  \\\n",
      "0          892       3                              Kelly, Mr. James    male   \n",
      "1          893       3              Wilkes, Mrs. James (Ellen Needs)  female   \n",
      "2          894       2                     Myles, Mr. Thomas Francis    male   \n",
      "3          895       3                              Wirz, Mr. Albert    male   \n",
      "4          896       3  Hirvonen, Mrs. Alexander (Helga E Lindqvist)  female   \n",
      "\n",
      "    Age  SibSp  Parch     Fare Embarked  Deck  \n",
      "0  34.5      0      0   7.8292        Q     8  \n",
      "1  47.0      1      0   7.0000        S     8  \n",
      "2  62.0      0      0   9.6875        Q     8  \n",
      "3  27.0      0      0   8.6625        S     8  \n",
      "4  22.0      1      1  12.2875        S     8  \n"
     ]
    }
   ],
   "source": [
    "print(df_ti_1.head())\n",
    "print(df_ti_2.head())"
   ]
  },
  {
   "cell_type": "code",
   "execution_count": 10,
   "id": "4363305c-1314-4ad4-aca3-50b3584a5e61",
   "metadata": {
    "scrolled": true
   },
   "outputs": [
    {
     "name": "stdout",
     "output_type": "stream",
     "text": [
      "     Survived  Pclass                                      Name     Sex  Age  \\\n",
      "5           0       3                          Moran, Mr. James    male  NaN   \n",
      "17          1       2              Williams, Mr. Charles Eugene    male  NaN   \n",
      "19          1       3                   Masselmani, Mrs. Fatima  female  NaN   \n",
      "26          0       3                   Emir, Mr. Farred Chehab    male  NaN   \n",
      "28          1       3             O'Dwyer, Miss. Ellen \"Nellie\"  female  NaN   \n",
      "..        ...     ...                                       ...     ...  ...   \n",
      "859         0       3                          Razi, Mr. Raihed    male  NaN   \n",
      "863         0       3         Sage, Miss. Dorothy Edith \"Dolly\"  female  NaN   \n",
      "868         0       3               van Melkebeke, Mr. Philemon    male  NaN   \n",
      "878         0       3                        Laleff, Mr. Kristo    male  NaN   \n",
      "888         0       3  Johnston, Miss. Catherine Helen \"Carrie\"  female  NaN   \n",
      "\n",
      "     SibSp  Parch     Fare Embarked  Deck  \n",
      "5        0      0   8.4583        Q     8  \n",
      "17       0      0  13.0000        S     8  \n",
      "19       0      0   7.2250        C     8  \n",
      "26       0      0   7.2250        C     8  \n",
      "28       0      0   7.8792        Q     8  \n",
      "..     ...    ...      ...      ...   ...  \n",
      "859      0      0   7.2292        C     8  \n",
      "863      8      2  69.5500        S     8  \n",
      "868      0      0   9.5000        S     8  \n",
      "878      0      0   7.8958        S     8  \n",
      "888      1      2  23.4500        S     8  \n",
      "\n",
      "[177 rows x 10 columns]\n",
      "177\n",
      "     PassengerId  Pclass                                               Name  \\\n",
      "10           902       3                                   Ilieff, Mr. Ylio   \n",
      "22           914       1               Flegenheim, Mrs. Alfred (Antoinette)   \n",
      "29           921       3                                  Samaan, Mr. Elias   \n",
      "33           925       3  Johnston, Mrs. Andrew G (Elizabeth Lily\" Watson)\"   \n",
      "36           928       3                                Roth, Miss. Sarah A   \n",
      "..           ...     ...                                                ...   \n",
      "408         1300       3                    Riordan, Miss. Johanna Hannah\"\"   \n",
      "410         1302       3                             Naughton, Miss. Hannah   \n",
      "413         1305       3                                 Spector, Mr. Woolf   \n",
      "416         1308       3                                Ware, Mr. Frederick   \n",
      "417         1309       3                           Peter, Master. Michael J   \n",
      "\n",
      "        Sex  Age  SibSp  Parch     Fare Embarked  Deck  \n",
      "10     male  NaN      0      0   7.8958        S     8  \n",
      "22   female  NaN      0      0  31.6833        S     8  \n",
      "29     male  NaN      2      0  21.6792        C     8  \n",
      "33   female  NaN      1      2  23.4500        S     8  \n",
      "36   female  NaN      0      0   8.0500        S     8  \n",
      "..      ...  ...    ...    ...      ...      ...   ...  \n",
      "408  female  NaN      0      0   7.7208        Q     8  \n",
      "410  female  NaN      0      0   7.7500        Q     8  \n",
      "413    male  NaN      0      0   8.0500        S     8  \n",
      "416    male  NaN      0      0   8.0500        S     8  \n",
      "417    male  NaN      1      1  22.3583        C     8  \n",
      "\n",
      "[86 rows x 10 columns]\n",
      "86\n"
     ]
    }
   ],
   "source": [
    "print(null_age_1:=df_ti_1[df_ti_1['Age'].isnull()])\n",
    "print(nb_null_age_1:=int(null_age_1.shape[0]))\n",
    "print(null_age_2:=df_ti_2[df_ti_2['Age'].isnull()])\n",
    "print(nb_null_age_2:=int(null_age_2.shape[0]))"
   ]
  },
  {
   "cell_type": "code",
   "execution_count": 11,
   "id": "4ca8ad39-7a44-42ff-a6ea-a10b94f57903",
   "metadata": {
    "scrolled": true
   },
   "outputs": [
    {
     "name": "stdout",
     "output_type": "stream",
     "text": [
      "[40 15 40 20 36 25 33 25 33 35 35 20 20 18 34 40 38 27 21 25 36 23 24 39\n",
      " 33 29 17 38 33 25 37 31 27 23 37 35 36 32 15 40 22 26 24 21 31 43 18 21\n",
      " 38 17 43 28 32 31 36 19 20 29 40 32 25 42 19 30 36 34 35 15 36 21 30 34\n",
      " 39 16 40 25 40 33 24 34 40 39 36 37 25 25 20 28 35 41 43 23 17 38 24 41\n",
      " 39 41 35 39 16 36 29 42 24 41 32 39 37 27 31 32 27 16 24 15 37 17 42 40\n",
      " 38 31 22 29 28 33 31 41 42 34 30 43 21 30 38 24 32 20 34 35 41 21 23 29\n",
      " 15 38 24 29 31 30 43 31 19 23 18 23 32 20 19 35 36 22 39 21 22 35 42 24\n",
      " 42 33 24 42 42 18 34 24 32]\n",
      "[31 36 36 30 41 18 17 22 41 21 28 32 22 16 37 29 30 41 40 18 28 26 31 35\n",
      " 42 38 22 35 19 16 39 23 19 24 40 32 26 16 30 38 24 23 39 28 26 26 36 39\n",
      " 34 24 41 40 39 17 37 28 41 28 40 40 30 30 35 17 30 36 42 33 20 39 28 37\n",
      " 39 39 28 36 43 37 23 40 43 19 42 40 40 25]\n"
     ]
    }
   ],
   "source": [
    "mean=df_ti_1[\"Age\"].mean()\n",
    "std=df_ti_1[\"Age\"].std()\n",
    "rand_ages_1=np.random.randint(mean-std, mean+std, size=nb_null_age_1)\n",
    "print(rand_ages_1)\n",
    "mean=df_ti_2[\"Age\"].mean()\n",
    "std=df_ti_2[\"Age\"].std()\n",
    "rand_ages_2=np.random.randint(mean-std, mean+std, size=nb_null_age_2)\n",
    "print(rand_ages_2)"
   ]
  },
  {
   "cell_type": "code",
   "execution_count": 12,
   "id": "8b456437-0d9b-4010-9498-498f0ffb9678",
   "metadata": {},
   "outputs": [
    {
     "name": "stdout",
     "output_type": "stream",
     "text": [
      "(177,)\n",
      "(86,)\n"
     ]
    }
   ],
   "source": [
    "age_filling_1=df_ti_1[\"Age\"].copy()\n",
    "print(age_filling_1[np.isnan(age_filling_1)].shape)\n",
    "age_filling_2=df_ti_2[\"Age\"].copy()\n",
    "print(age_filling_2[np.isnan(age_filling_2)].shape)"
   ]
  },
  {
   "cell_type": "code",
   "execution_count": 13,
   "id": "d7b41f87-2619-449a-93f8-1cc270eaba00",
   "metadata": {
    "scrolled": true
   },
   "outputs": [
    {
     "name": "stdout",
     "output_type": "stream",
     "text": [
      "0      22.0\n",
      "1      38.0\n",
      "2      26.0\n",
      "3      35.0\n",
      "4      35.0\n",
      "       ... \n",
      "886    27.0\n",
      "887    19.0\n",
      "888    32.0\n",
      "889    26.0\n",
      "890    32.0\n",
      "Name: Age, Length: 891, dtype: float64\n",
      "0      34.5\n",
      "1      47.0\n",
      "2      62.0\n",
      "3      27.0\n",
      "4      22.0\n",
      "       ... \n",
      "413    40.0\n",
      "414    39.0\n",
      "415    38.5\n",
      "416    40.0\n",
      "417    25.0\n",
      "Name: Age, Length: 418, dtype: float64\n"
     ]
    }
   ],
   "source": [
    "age_filling_1[np.isnan(age_filling_1)]=rand_ages_1\n",
    "print(age_filling_1)\n",
    "age_filling_2[np.isnan(age_filling_2)]=rand_ages_2\n",
    "print(age_filling_2)"
   ]
  },
  {
   "cell_type": "code",
   "execution_count": 14,
   "id": "c2855895-b263-435a-8d2b-79288f3a1c24",
   "metadata": {
    "scrolled": true
   },
   "outputs": [],
   "source": [
    "df_ti_1[\"Age\"]=age_filling_1\n",
    "df_ti_1[\"Age\"]=df_ti_1[\"Age\"].astype(int)\n",
    "df_ti_2[\"Age\"]=age_filling_2\n",
    "df_ti_2[\"Age\"]=df_ti_2[\"Age\"].astype(int)"
   ]
  },
  {
   "cell_type": "code",
   "execution_count": 15,
   "id": "782f5526-b4b9-4cc8-8a3e-61d24033a6ea",
   "metadata": {},
   "outputs": [
    {
     "name": "stdout",
     "output_type": "stream",
     "text": [
      "     Survived  Pclass                                       Name     Sex  Age  \\\n",
      "61          1       1                        Icard, Miss. Amelie  female   38   \n",
      "829         1       1  Stone, Mrs. George Nelson (Martha Evelyn)  female   62   \n",
      "\n",
      "     SibSp  Parch  Fare Embarked  Deck  \n",
      "61       0      0  80.0      NaN     2  \n",
      "829      0      0  80.0      NaN     2  \n",
      "(2, 10)\n",
      "Empty DataFrame\n",
      "Columns: [PassengerId, Pclass, Name, Sex, Age, SibSp, Parch, Fare, Embarked, Deck]\n",
      "Index: []\n",
      "(0, 10)\n"
     ]
    }
   ],
   "source": [
    "print(emb_null_1:=df_ti_1[df_ti_1[\"Embarked\"].isnull()])\n",
    "print(emb_null_1.shape)\n",
    "print(emb_null_2:=df_ti_2[df_ti_2[\"Embarked\"].isnull()])\n",
    "print(emb_null_2.shape)"
   ]
  },
  {
   "cell_type": "code",
   "execution_count": 16,
   "id": "da6f417e-568a-4a12-9993-bf9c20c8d816",
   "metadata": {},
   "outputs": [
    {
     "name": "stdout",
     "output_type": "stream",
     "text": [
      "S\n",
      "S\n"
     ]
    }
   ],
   "source": [
    "emb_most_common_1=df_ti_1['Embarked'].value_counts().idxmax()\n",
    "print(emb_most_common_1)\n",
    "emb_most_common_2=df_ti_2['Embarked'].value_counts().idxmax()\n",
    "print(emb_most_common_2)"
   ]
  },
  {
   "cell_type": "code",
   "execution_count": 17,
   "id": "20b0b639-8b5e-4e29-8bee-c7dce25ac8e3",
   "metadata": {},
   "outputs": [],
   "source": [
    "df_ti_1['Embarked']=df_ti_1['Embarked'].fillna(emb_most_common_1)\n",
    "df_ti_2['Embarked']=df_ti_2['Embarked'].fillna(emb_most_common_2)"
   ]
  },
  {
   "cell_type": "code",
   "execution_count": 18,
   "id": "154bdc71-30b7-468e-b91d-24d61cdd8bc0",
   "metadata": {},
   "outputs": [
    {
     "name": "stdout",
     "output_type": "stream",
     "text": [
      "float64\n"
     ]
    }
   ],
   "source": [
    "print(df_ti_1['Fare'].dtype)"
   ]
  },
  {
   "cell_type": "code",
   "execution_count": 19,
   "id": "ec04ed07-113d-4569-b906-3bcc83e75d3a",
   "metadata": {},
   "outputs": [],
   "source": [
    "df_ti_1['Fare']=df_ti_1['Fare'].fillna(0)\n",
    "df_ti_1['Fare']=df_ti_1['Fare'].astype(int)\n",
    "df_ti_2['Fare']=df_ti_2['Fare'].fillna(0)\n",
    "df_ti_2['Fare']=df_ti_2['Fare'].astype(int)"
   ]
  },
  {
   "cell_type": "code",
   "execution_count": 20,
   "id": "e7178b6a-74cb-4e9c-a58f-2219b86a91a7",
   "metadata": {
    "scrolled": true
   },
   "outputs": [
    {
     "name": "stdout",
     "output_type": "stream",
     "text": [
      "0                               Braund, Mr. Owen Harris\n",
      "1     Cumings, Mrs. John Bradley (Florence Briggs Th...\n",
      "2                                Heikkinen, Miss. Laina\n",
      "3          Futrelle, Mrs. Jacques Heath (Lily May Peel)\n",
      "4                              Allen, Mr. William Henry\n",
      "5                                      Moran, Mr. James\n",
      "6                               McCarthy, Mr. Timothy J\n",
      "7                        Palsson, Master. Gosta Leonard\n",
      "8     Johnson, Mrs. Oscar W (Elisabeth Vilhelmina Berg)\n",
      "9                   Nasser, Mrs. Nicholas (Adele Achem)\n",
      "10                      Sandstrom, Miss. Marguerite Rut\n",
      "11                             Bonnell, Miss. Elizabeth\n",
      "12                       Saundercock, Mr. William Henry\n",
      "13                          Andersson, Mr. Anders Johan\n",
      "14                 Vestrom, Miss. Hulda Amanda Adolfina\n",
      "15                     Hewlett, Mrs. (Mary D Kingcome) \n",
      "16                                 Rice, Master. Eugene\n",
      "17                         Williams, Mr. Charles Eugene\n",
      "18    Vander Planke, Mrs. Julius (Emelia Maria Vande...\n",
      "19                              Masselmani, Mrs. Fatima\n",
      "Name: Name, dtype: object\n"
     ]
    }
   ],
   "source": [
    "print(df_ti_1[\"Name\"].head(20))"
   ]
  },
  {
   "cell_type": "code",
   "execution_count": 21,
   "id": "0d75a090-c505-48dc-bfbf-e9edd554be41",
   "metadata": {},
   "outputs": [
    {
     "name": "stdout",
     "output_type": "stream",
     "text": [
      "['Capt' 'Col' 'Countess' 'Don' 'Dr' 'Jonkheer' 'Lady' 'Major' 'Mlle' 'Mme'\n",
      " 'Ms' 'Rev' 'Sir']\n",
      "['Col' 'Dona' 'Dr' 'Ms' 'Rev']\n"
     ]
    }
   ],
   "source": [
    "df_ti_1['Title'] = df_ti_1.Name.str.extract(' ([A-Za-z]+)\\.', expand=False)\n",
    "titles_to_exclude = ['Mr', 'Mrs', 'Miss', 'Master']\n",
    "filtered_titles_1 = df_ti_1.loc[~df_ti_1[\"Title\"].isin(titles_to_exclude), \"Title\"].values\n",
    "unique_titles_1 = np.unique(filtered_titles_1)\n",
    "print(unique_titles_1)\n",
    "\n",
    "df_ti_2['Title'] = df_ti_2.Name.str.extract(' ([A-Za-z]+)\\.', expand=False)\n",
    "filtered_titles_2 = df_ti_2.loc[~df_ti_2[\"Title\"].isin(titles_to_exclude), \"Title\"].values\n",
    "unique_titles_2 = np.unique(filtered_titles_2)\n",
    "print(unique_titles_2)\n"
   ]
  },
  {
   "cell_type": "code",
   "execution_count": 22,
   "id": "060aa89f-fb21-477d-ae8e-6c3c48a1e152",
   "metadata": {},
   "outputs": [],
   "source": [
    "df_ti_1[\"Title\"]=df_ti_1[\"Title\"].replace('Mlle', 'Miss')\n",
    "df_ti_1[\"Title\"]=df_ti_1[\"Title\"].replace('Ms', 'Miss')\n",
    "df_ti_1[\"Title\"]=df_ti_1[\"Title\"].replace('Mme', 'Mrs')\n",
    "\n",
    "df_ti_2[\"Title\"]=df_ti_2[\"Title\"].replace('Mlle', 'Miss')\n",
    "df_ti_2[\"Title\"]=df_ti_2[\"Title\"].replace('Ms', 'Miss')\n",
    "df_ti_2[\"Title\"]=df_ti_2[\"Title\"].replace('Mme', 'Mrs')"
   ]
  },
  {
   "cell_type": "code",
   "execution_count": 23,
   "id": "c0430fda-bdc7-4f82-a501-f1bf44869ce7",
   "metadata": {},
   "outputs": [
    {
     "name": "stdout",
     "output_type": "stream",
     "text": [
      "['Capt' 'Col' 'Countess' 'Don' 'Dr' 'Jonkheer' 'Lady' 'Major' 'Rev' 'Sir']\n",
      "['Col' 'Dona' 'Dr' 'Ms' 'Rev']\n"
     ]
    }
   ],
   "source": [
    "filtered_titles_1 = df_ti_1.loc[~df_ti_1[\"Title\"].isin(titles_to_exclude), \"Title\"].values\n",
    "unique_titles_1 = np.unique(filtered_titles_1)\n",
    "print(unique_titles_1)\n",
    "filtered_titles_2 = df_ti_2.loc[~df_ti_2[\"Title\"].isin(titles_to_exclude), \"Title\"].values\n",
    "unique_title_2 = np.unique(filtered_titles_2)\n",
    "print(unique_titles_2)"
   ]
  },
  {
   "cell_type": "code",
   "execution_count": 24,
   "id": "b58a2169-66cf-46df-ba4c-72d7f6b8f40c",
   "metadata": {},
   "outputs": [],
   "source": [
    "df_ti_1[\"Title\"]=df_ti_1[\"Title\"].replace(unique_titles_1, 'Rare')\n",
    "df_ti_2[\"Title\"]=df_ti_2[\"Title\"].replace(unique_titles_2, 'Rare')"
   ]
  },
  {
   "cell_type": "code",
   "execution_count": 25,
   "id": "57f9c33e-f713-4606-933d-0e173b2b3a04",
   "metadata": {},
   "outputs": [],
   "source": [
    "titles = {\"Mr\": 1, \"Miss\": 2, \"Mrs\": 3, \"Master\": 4, \"Rare\": 5}\n",
    "df_ti_1['Title'] = df_ti_1['Title'].map(titles)\n",
    "df_ti_1['Title'] = df_ti_1['Title'].fillna(0)\n",
    "\n",
    "df_ti_2['Title'] = df_ti_2['Title'].map(titles)\n",
    "df_ti_2['Title'] = df_ti_2['Title'].fillna(0)"
   ]
  },
  {
   "cell_type": "code",
   "execution_count": 26,
   "id": "6f2a1597-ec67-417b-9708-be9aa6d0efa9",
   "metadata": {},
   "outputs": [],
   "source": [
    "df_ti_1=df_ti_1.drop(\"Name\", axis=1)\n",
    "df_ti_2=df_ti_2.drop(\"Name\", axis=1)"
   ]
  },
  {
   "cell_type": "code",
   "execution_count": 27,
   "id": "09a4d1ef-ec88-41ce-bd74-c8a345aadaf5",
   "metadata": {},
   "outputs": [],
   "source": [
    "sexs={\"male\":0, \"female\":1}\n",
    "df_ti_1[\"Sex\"]=df_ti_1[\"Sex\"].map(sexs)\n",
    "df_ti_2[\"Sex\"]=df_ti_2[\"Sex\"].map(sexs)"
   ]
  },
  {
   "cell_type": "code",
   "execution_count": 28,
   "id": "a378e7c0-252e-4ed1-8c99-3d7c7a7e3e3b",
   "metadata": {},
   "outputs": [
    {
     "name": "stdout",
     "output_type": "stream",
     "text": [
      "['S' 'C' 'Q']\n",
      "['Q' 'S' 'C']\n"
     ]
    }
   ],
   "source": [
    "emb_1=df_ti_1['Embarked'].unique()\n",
    "print(emb_1)\n",
    "emb_2=df_ti_2['Embarked'].unique()\n",
    "print(emb_2)"
   ]
  },
  {
   "cell_type": "code",
   "execution_count": 29,
   "id": "b14022a7-bb4e-4c40-848e-17c5a914edb3",
   "metadata": {},
   "outputs": [],
   "source": [
    "emb_places={'S':0, 'C':1, 'Q':2}\n",
    "df_ti_1[\"Embarked\"]=df_ti_1[\"Embarked\"].map(emb_places)\n",
    "df_ti_2[\"Embarked\"]=df_ti_2[\"Embarked\"].map(emb_places)"
   ]
  },
  {
   "cell_type": "code",
   "execution_count": 30,
   "id": "0bc33e4a-ae42-4756-9b91-2a1414b22e4d",
   "metadata": {},
   "outputs": [
    {
     "data": {
      "text/plain": [
       "Age\n",
       "3    360\n",
       "2    239\n",
       "4    145\n",
       "0     69\n",
       "1     56\n",
       "5     22\n",
       "Name: count, dtype: int64"
      ]
     },
     "execution_count": 30,
     "metadata": {},
     "output_type": "execute_result"
    }
   ],
   "source": [
    "for df_ti in [df_ti_1, df_ti_2]:\n",
    "    df_ti[\"Age\"]=df_ti[\"Age\"].astype(int)\n",
    "    df_ti.loc[df_ti[\"Age\"]<=12, 'Age']=0\n",
    "    df_ti.loc[(df_ti[\"Age\"]>12)&(df_ti[\"Age\"]<=17), 'Age']=1\n",
    "    df_ti.loc[(df_ti[\"Age\"]>17)&(df_ti[\"Age\"]<=25), 'Age']=2\n",
    "    df_ti.loc[(df_ti[\"Age\"]>25)&(df_ti[\"Age\"]<=40), 'Age']=3\n",
    "    df_ti.loc[(df_ti[\"Age\"]>40)&(df_ti[\"Age\"]<=60), 'Age']=4\n",
    "    df_ti.loc[(df_ti[\"Age\"]>60), 'Age']=5\n",
    "\n",
    "df_ti_1[\"Age\"].value_counts()"
   ]
  },
  {
   "cell_type": "code",
   "execution_count": 31,
   "id": "3fa5fc25-6a44-4aa9-938a-2fff849736c2",
   "metadata": {},
   "outputs": [
    {
     "data": {
      "text/plain": [
       "Age\n",
       "3    167\n",
       "2    118\n",
       "4     76\n",
       "0     25\n",
       "1     22\n",
       "5     10\n",
       "Name: count, dtype: int64"
      ]
     },
     "execution_count": 31,
     "metadata": {},
     "output_type": "execute_result"
    }
   ],
   "source": [
    "df_ti_2[\"Age\"].value_counts()"
   ]
  },
  {
   "cell_type": "code",
   "execution_count": 32,
   "id": "af92110c-41b9-4e62-b997-07dcb3782be4",
   "metadata": {},
   "outputs": [
    {
     "data": {
      "text/html": [
       "<div>\n",
       "<style scoped>\n",
       "    .dataframe tbody tr th:only-of-type {\n",
       "        vertical-align: middle;\n",
       "    }\n",
       "\n",
       "    .dataframe tbody tr th {\n",
       "        vertical-align: top;\n",
       "    }\n",
       "\n",
       "    .dataframe thead th {\n",
       "        text-align: right;\n",
       "    }\n",
       "</style>\n",
       "<table border=\"1\" class=\"dataframe\">\n",
       "  <thead>\n",
       "    <tr style=\"text-align: right;\">\n",
       "      <th></th>\n",
       "      <th>Survived</th>\n",
       "      <th>Pclass</th>\n",
       "      <th>Sex</th>\n",
       "      <th>Age</th>\n",
       "      <th>SibSp</th>\n",
       "      <th>Parch</th>\n",
       "      <th>Fare</th>\n",
       "      <th>Embarked</th>\n",
       "      <th>Deck</th>\n",
       "      <th>Title</th>\n",
       "    </tr>\n",
       "  </thead>\n",
       "  <tbody>\n",
       "    <tr>\n",
       "      <th>0</th>\n",
       "      <td>0</td>\n",
       "      <td>3</td>\n",
       "      <td>0</td>\n",
       "      <td>2</td>\n",
       "      <td>1</td>\n",
       "      <td>0</td>\n",
       "      <td>7</td>\n",
       "      <td>0</td>\n",
       "      <td>8</td>\n",
       "      <td>1</td>\n",
       "    </tr>\n",
       "    <tr>\n",
       "      <th>1</th>\n",
       "      <td>1</td>\n",
       "      <td>1</td>\n",
       "      <td>1</td>\n",
       "      <td>3</td>\n",
       "      <td>1</td>\n",
       "      <td>0</td>\n",
       "      <td>71</td>\n",
       "      <td>1</td>\n",
       "      <td>3</td>\n",
       "      <td>3</td>\n",
       "    </tr>\n",
       "    <tr>\n",
       "      <th>2</th>\n",
       "      <td>1</td>\n",
       "      <td>3</td>\n",
       "      <td>1</td>\n",
       "      <td>3</td>\n",
       "      <td>0</td>\n",
       "      <td>0</td>\n",
       "      <td>7</td>\n",
       "      <td>0</td>\n",
       "      <td>8</td>\n",
       "      <td>2</td>\n",
       "    </tr>\n",
       "    <tr>\n",
       "      <th>3</th>\n",
       "      <td>1</td>\n",
       "      <td>1</td>\n",
       "      <td>1</td>\n",
       "      <td>3</td>\n",
       "      <td>1</td>\n",
       "      <td>0</td>\n",
       "      <td>53</td>\n",
       "      <td>0</td>\n",
       "      <td>3</td>\n",
       "      <td>3</td>\n",
       "    </tr>\n",
       "    <tr>\n",
       "      <th>4</th>\n",
       "      <td>0</td>\n",
       "      <td>3</td>\n",
       "      <td>0</td>\n",
       "      <td>3</td>\n",
       "      <td>0</td>\n",
       "      <td>0</td>\n",
       "      <td>8</td>\n",
       "      <td>0</td>\n",
       "      <td>8</td>\n",
       "      <td>1</td>\n",
       "    </tr>\n",
       "    <tr>\n",
       "      <th>5</th>\n",
       "      <td>0</td>\n",
       "      <td>3</td>\n",
       "      <td>0</td>\n",
       "      <td>3</td>\n",
       "      <td>0</td>\n",
       "      <td>0</td>\n",
       "      <td>8</td>\n",
       "      <td>2</td>\n",
       "      <td>8</td>\n",
       "      <td>1</td>\n",
       "    </tr>\n",
       "    <tr>\n",
       "      <th>6</th>\n",
       "      <td>0</td>\n",
       "      <td>1</td>\n",
       "      <td>0</td>\n",
       "      <td>4</td>\n",
       "      <td>0</td>\n",
       "      <td>0</td>\n",
       "      <td>51</td>\n",
       "      <td>0</td>\n",
       "      <td>5</td>\n",
       "      <td>1</td>\n",
       "    </tr>\n",
       "    <tr>\n",
       "      <th>7</th>\n",
       "      <td>0</td>\n",
       "      <td>3</td>\n",
       "      <td>0</td>\n",
       "      <td>0</td>\n",
       "      <td>3</td>\n",
       "      <td>1</td>\n",
       "      <td>21</td>\n",
       "      <td>0</td>\n",
       "      <td>8</td>\n",
       "      <td>4</td>\n",
       "    </tr>\n",
       "    <tr>\n",
       "      <th>8</th>\n",
       "      <td>1</td>\n",
       "      <td>3</td>\n",
       "      <td>1</td>\n",
       "      <td>3</td>\n",
       "      <td>0</td>\n",
       "      <td>2</td>\n",
       "      <td>11</td>\n",
       "      <td>0</td>\n",
       "      <td>8</td>\n",
       "      <td>3</td>\n",
       "    </tr>\n",
       "    <tr>\n",
       "      <th>9</th>\n",
       "      <td>1</td>\n",
       "      <td>2</td>\n",
       "      <td>1</td>\n",
       "      <td>1</td>\n",
       "      <td>1</td>\n",
       "      <td>0</td>\n",
       "      <td>30</td>\n",
       "      <td>1</td>\n",
       "      <td>8</td>\n",
       "      <td>3</td>\n",
       "    </tr>\n",
       "  </tbody>\n",
       "</table>\n",
       "</div>"
      ],
      "text/plain": [
       "   Survived  Pclass  Sex  Age  SibSp  Parch  Fare  Embarked  Deck  Title\n",
       "0         0       3    0    2      1      0     7         0     8      1\n",
       "1         1       1    1    3      1      0    71         1     3      3\n",
       "2         1       3    1    3      0      0     7         0     8      2\n",
       "3         1       1    1    3      1      0    53         0     3      3\n",
       "4         0       3    0    3      0      0     8         0     8      1\n",
       "5         0       3    0    3      0      0     8         2     8      1\n",
       "6         0       1    0    4      0      0    51         0     5      1\n",
       "7         0       3    0    0      3      1    21         0     8      4\n",
       "8         1       3    1    3      0      2    11         0     8      3\n",
       "9         1       2    1    1      1      0    30         1     8      3"
      ]
     },
     "execution_count": 32,
     "metadata": {},
     "output_type": "execute_result"
    }
   ],
   "source": [
    "df_ti_1.head(10)"
   ]
  },
  {
   "cell_type": "code",
   "execution_count": 33,
   "id": "b83e432f-febe-4933-9eaf-0d677236c71c",
   "metadata": {},
   "outputs": [
    {
     "data": {
      "text/html": [
       "<div>\n",
       "<style scoped>\n",
       "    .dataframe tbody tr th:only-of-type {\n",
       "        vertical-align: middle;\n",
       "    }\n",
       "\n",
       "    .dataframe tbody tr th {\n",
       "        vertical-align: top;\n",
       "    }\n",
       "\n",
       "    .dataframe thead th {\n",
       "        text-align: right;\n",
       "    }\n",
       "</style>\n",
       "<table border=\"1\" class=\"dataframe\">\n",
       "  <thead>\n",
       "    <tr style=\"text-align: right;\">\n",
       "      <th></th>\n",
       "      <th>PassengerId</th>\n",
       "      <th>Pclass</th>\n",
       "      <th>Sex</th>\n",
       "      <th>Age</th>\n",
       "      <th>SibSp</th>\n",
       "      <th>Parch</th>\n",
       "      <th>Fare</th>\n",
       "      <th>Embarked</th>\n",
       "      <th>Deck</th>\n",
       "      <th>Title</th>\n",
       "    </tr>\n",
       "  </thead>\n",
       "  <tbody>\n",
       "    <tr>\n",
       "      <th>0</th>\n",
       "      <td>892</td>\n",
       "      <td>3</td>\n",
       "      <td>0</td>\n",
       "      <td>3</td>\n",
       "      <td>0</td>\n",
       "      <td>0</td>\n",
       "      <td>7</td>\n",
       "      <td>2</td>\n",
       "      <td>8</td>\n",
       "      <td>1</td>\n",
       "    </tr>\n",
       "    <tr>\n",
       "      <th>1</th>\n",
       "      <td>893</td>\n",
       "      <td>3</td>\n",
       "      <td>1</td>\n",
       "      <td>4</td>\n",
       "      <td>1</td>\n",
       "      <td>0</td>\n",
       "      <td>7</td>\n",
       "      <td>0</td>\n",
       "      <td>8</td>\n",
       "      <td>3</td>\n",
       "    </tr>\n",
       "    <tr>\n",
       "      <th>2</th>\n",
       "      <td>894</td>\n",
       "      <td>2</td>\n",
       "      <td>0</td>\n",
       "      <td>5</td>\n",
       "      <td>0</td>\n",
       "      <td>0</td>\n",
       "      <td>9</td>\n",
       "      <td>2</td>\n",
       "      <td>8</td>\n",
       "      <td>1</td>\n",
       "    </tr>\n",
       "    <tr>\n",
       "      <th>3</th>\n",
       "      <td>895</td>\n",
       "      <td>3</td>\n",
       "      <td>0</td>\n",
       "      <td>3</td>\n",
       "      <td>0</td>\n",
       "      <td>0</td>\n",
       "      <td>8</td>\n",
       "      <td>0</td>\n",
       "      <td>8</td>\n",
       "      <td>1</td>\n",
       "    </tr>\n",
       "    <tr>\n",
       "      <th>4</th>\n",
       "      <td>896</td>\n",
       "      <td>3</td>\n",
       "      <td>1</td>\n",
       "      <td>2</td>\n",
       "      <td>1</td>\n",
       "      <td>1</td>\n",
       "      <td>12</td>\n",
       "      <td>0</td>\n",
       "      <td>8</td>\n",
       "      <td>3</td>\n",
       "    </tr>\n",
       "    <tr>\n",
       "      <th>5</th>\n",
       "      <td>897</td>\n",
       "      <td>3</td>\n",
       "      <td>0</td>\n",
       "      <td>1</td>\n",
       "      <td>0</td>\n",
       "      <td>0</td>\n",
       "      <td>9</td>\n",
       "      <td>0</td>\n",
       "      <td>8</td>\n",
       "      <td>1</td>\n",
       "    </tr>\n",
       "    <tr>\n",
       "      <th>6</th>\n",
       "      <td>898</td>\n",
       "      <td>3</td>\n",
       "      <td>1</td>\n",
       "      <td>3</td>\n",
       "      <td>0</td>\n",
       "      <td>0</td>\n",
       "      <td>7</td>\n",
       "      <td>2</td>\n",
       "      <td>8</td>\n",
       "      <td>2</td>\n",
       "    </tr>\n",
       "    <tr>\n",
       "      <th>7</th>\n",
       "      <td>899</td>\n",
       "      <td>2</td>\n",
       "      <td>0</td>\n",
       "      <td>3</td>\n",
       "      <td>1</td>\n",
       "      <td>1</td>\n",
       "      <td>29</td>\n",
       "      <td>0</td>\n",
       "      <td>8</td>\n",
       "      <td>1</td>\n",
       "    </tr>\n",
       "    <tr>\n",
       "      <th>8</th>\n",
       "      <td>900</td>\n",
       "      <td>3</td>\n",
       "      <td>1</td>\n",
       "      <td>2</td>\n",
       "      <td>0</td>\n",
       "      <td>0</td>\n",
       "      <td>7</td>\n",
       "      <td>1</td>\n",
       "      <td>8</td>\n",
       "      <td>3</td>\n",
       "    </tr>\n",
       "    <tr>\n",
       "      <th>9</th>\n",
       "      <td>901</td>\n",
       "      <td>3</td>\n",
       "      <td>0</td>\n",
       "      <td>2</td>\n",
       "      <td>2</td>\n",
       "      <td>0</td>\n",
       "      <td>24</td>\n",
       "      <td>0</td>\n",
       "      <td>8</td>\n",
       "      <td>1</td>\n",
       "    </tr>\n",
       "    <tr>\n",
       "      <th>10</th>\n",
       "      <td>902</td>\n",
       "      <td>3</td>\n",
       "      <td>0</td>\n",
       "      <td>3</td>\n",
       "      <td>0</td>\n",
       "      <td>0</td>\n",
       "      <td>7</td>\n",
       "      <td>0</td>\n",
       "      <td>8</td>\n",
       "      <td>1</td>\n",
       "    </tr>\n",
       "    <tr>\n",
       "      <th>11</th>\n",
       "      <td>903</td>\n",
       "      <td>1</td>\n",
       "      <td>0</td>\n",
       "      <td>4</td>\n",
       "      <td>0</td>\n",
       "      <td>0</td>\n",
       "      <td>26</td>\n",
       "      <td>0</td>\n",
       "      <td>8</td>\n",
       "      <td>1</td>\n",
       "    </tr>\n",
       "    <tr>\n",
       "      <th>12</th>\n",
       "      <td>904</td>\n",
       "      <td>1</td>\n",
       "      <td>1</td>\n",
       "      <td>2</td>\n",
       "      <td>1</td>\n",
       "      <td>0</td>\n",
       "      <td>82</td>\n",
       "      <td>0</td>\n",
       "      <td>2</td>\n",
       "      <td>3</td>\n",
       "    </tr>\n",
       "    <tr>\n",
       "      <th>13</th>\n",
       "      <td>905</td>\n",
       "      <td>2</td>\n",
       "      <td>0</td>\n",
       "      <td>5</td>\n",
       "      <td>1</td>\n",
       "      <td>0</td>\n",
       "      <td>26</td>\n",
       "      <td>0</td>\n",
       "      <td>8</td>\n",
       "      <td>1</td>\n",
       "    </tr>\n",
       "    <tr>\n",
       "      <th>14</th>\n",
       "      <td>906</td>\n",
       "      <td>1</td>\n",
       "      <td>1</td>\n",
       "      <td>4</td>\n",
       "      <td>1</td>\n",
       "      <td>0</td>\n",
       "      <td>61</td>\n",
       "      <td>0</td>\n",
       "      <td>5</td>\n",
       "      <td>3</td>\n",
       "    </tr>\n",
       "    <tr>\n",
       "      <th>15</th>\n",
       "      <td>907</td>\n",
       "      <td>2</td>\n",
       "      <td>1</td>\n",
       "      <td>2</td>\n",
       "      <td>1</td>\n",
       "      <td>0</td>\n",
       "      <td>27</td>\n",
       "      <td>1</td>\n",
       "      <td>8</td>\n",
       "      <td>3</td>\n",
       "    </tr>\n",
       "    <tr>\n",
       "      <th>16</th>\n",
       "      <td>908</td>\n",
       "      <td>2</td>\n",
       "      <td>0</td>\n",
       "      <td>3</td>\n",
       "      <td>0</td>\n",
       "      <td>0</td>\n",
       "      <td>12</td>\n",
       "      <td>2</td>\n",
       "      <td>8</td>\n",
       "      <td>1</td>\n",
       "    </tr>\n",
       "    <tr>\n",
       "      <th>17</th>\n",
       "      <td>909</td>\n",
       "      <td>3</td>\n",
       "      <td>0</td>\n",
       "      <td>2</td>\n",
       "      <td>0</td>\n",
       "      <td>0</td>\n",
       "      <td>7</td>\n",
       "      <td>1</td>\n",
       "      <td>8</td>\n",
       "      <td>1</td>\n",
       "    </tr>\n",
       "    <tr>\n",
       "      <th>18</th>\n",
       "      <td>910</td>\n",
       "      <td>3</td>\n",
       "      <td>1</td>\n",
       "      <td>3</td>\n",
       "      <td>1</td>\n",
       "      <td>0</td>\n",
       "      <td>7</td>\n",
       "      <td>0</td>\n",
       "      <td>8</td>\n",
       "      <td>2</td>\n",
       "    </tr>\n",
       "    <tr>\n",
       "      <th>19</th>\n",
       "      <td>911</td>\n",
       "      <td>3</td>\n",
       "      <td>1</td>\n",
       "      <td>4</td>\n",
       "      <td>0</td>\n",
       "      <td>0</td>\n",
       "      <td>7</td>\n",
       "      <td>1</td>\n",
       "      <td>8</td>\n",
       "      <td>3</td>\n",
       "    </tr>\n",
       "  </tbody>\n",
       "</table>\n",
       "</div>"
      ],
      "text/plain": [
       "    PassengerId  Pclass  Sex  Age  SibSp  Parch  Fare  Embarked  Deck  Title\n",
       "0           892       3    0    3      0      0     7         2     8      1\n",
       "1           893       3    1    4      1      0     7         0     8      3\n",
       "2           894       2    0    5      0      0     9         2     8      1\n",
       "3           895       3    0    3      0      0     8         0     8      1\n",
       "4           896       3    1    2      1      1    12         0     8      3\n",
       "5           897       3    0    1      0      0     9         0     8      1\n",
       "6           898       3    1    3      0      0     7         2     8      2\n",
       "7           899       2    0    3      1      1    29         0     8      1\n",
       "8           900       3    1    2      0      0     7         1     8      3\n",
       "9           901       3    0    2      2      0    24         0     8      1\n",
       "10          902       3    0    3      0      0     7         0     8      1\n",
       "11          903       1    0    4      0      0    26         0     8      1\n",
       "12          904       1    1    2      1      0    82         0     2      3\n",
       "13          905       2    0    5      1      0    26         0     8      1\n",
       "14          906       1    1    4      1      0    61         0     5      3\n",
       "15          907       2    1    2      1      0    27         1     8      3\n",
       "16          908       2    0    3      0      0    12         2     8      1\n",
       "17          909       3    0    2      0      0     7         1     8      1\n",
       "18          910       3    1    3      1      0     7         0     8      2\n",
       "19          911       3    1    4      0      0     7         1     8      3"
      ]
     },
     "execution_count": 33,
     "metadata": {},
     "output_type": "execute_result"
    }
   ],
   "source": [
    "df_ti_2.head(20)"
   ]
  },
  {
   "cell_type": "code",
   "execution_count": 34,
   "id": "d0087f6d-b04b-4b17-9e34-244b6699498b",
   "metadata": {},
   "outputs": [
    {
     "name": "stdout",
     "output_type": "stream",
     "text": [
      "   Survived  Pclass  Sex  Age  SibSp  Parch  Fare  Embarked  Deck  Title  \\\n",
      "0         0       3    0    2      1      0     7         0     8      1   \n",
      "1         1       1    1    3      1      0    71         1     3      3   \n",
      "2         1       3    1    3      0      0     7         0     8      2   \n",
      "3         1       1    1    3      1      0    53         0     3      3   \n",
      "4         0       3    0    3      0      0     8         0     8      1   \n",
      "5         0       3    0    3      0      0     8         2     8      1   \n",
      "6         0       1    0    4      0      0    51         0     5      1   \n",
      "7         0       3    0    0      3      1    21         0     8      4   \n",
      "8         1       3    1    3      0      2    11         0     8      3   \n",
      "9         1       2    1    1      1      0    30         1     8      3   \n",
      "\n",
      "   Relatives  \n",
      "0          1  \n",
      "1          1  \n",
      "2          0  \n",
      "3          1  \n",
      "4          0  \n",
      "5          0  \n",
      "6          0  \n",
      "7          4  \n",
      "8          2  \n",
      "9          1  \n",
      "   PassengerId  Pclass  Sex  Age  SibSp  Parch  Fare  Embarked  Deck  Title  \\\n",
      "0          892       3    0    3      0      0     7         2     8      1   \n",
      "1          893       3    1    4      1      0     7         0     8      3   \n",
      "2          894       2    0    5      0      0     9         2     8      1   \n",
      "3          895       3    0    3      0      0     8         0     8      1   \n",
      "4          896       3    1    2      1      1    12         0     8      3   \n",
      "5          897       3    0    1      0      0     9         0     8      1   \n",
      "6          898       3    1    3      0      0     7         2     8      2   \n",
      "7          899       2    0    3      1      1    29         0     8      1   \n",
      "8          900       3    1    2      0      0     7         1     8      3   \n",
      "9          901       3    0    2      2      0    24         0     8      1   \n",
      "\n",
      "   Relatives  \n",
      "0          0  \n",
      "1          1  \n",
      "2          0  \n",
      "3          0  \n",
      "4          2  \n",
      "5          0  \n",
      "6          0  \n",
      "7          2  \n",
      "8          0  \n",
      "9          2  \n"
     ]
    }
   ],
   "source": [
    "df_ti_1['Relatives']=df_ti_1['SibSp']+df_ti_1['Parch']\n",
    "print(df_ti_1.head(10))\n",
    "df_ti_2['Relatives']=df_ti_2['SibSp']+df_ti_2['Parch']\n",
    "print(df_ti_2.head(10))"
   ]
  },
  {
   "cell_type": "code",
   "execution_count": 35,
   "id": "12823eee-c307-46b8-ac75-e258a6d6a837",
   "metadata": {},
   "outputs": [
    {
     "name": "stdout",
     "output_type": "stream",
     "text": [
      "[ 7. 14. 31.]\n"
     ]
    }
   ],
   "source": [
    "quartiles = np.percentile(df_ti_1['Fare'].dropna(), [25, 50, 75])\n",
    "print(quartiles)"
   ]
  },
  {
   "cell_type": "code",
   "execution_count": 36,
   "id": "0825c0e7-0038-4a09-a93d-eaffbcec2a3f",
   "metadata": {},
   "outputs": [
    {
     "data": {
      "text/plain": [
       "Fare\n",
       "0    241\n",
       "2    223\n",
       "1    216\n",
       "3    211\n",
       "Name: count, dtype: int64"
      ]
     },
     "execution_count": 36,
     "metadata": {},
     "output_type": "execute_result"
    }
   ],
   "source": [
    "\n",
    "for df_ti in [df_ti_1, df_ti_2]:\n",
    "    df_ti['Fare']=df_ti['Fare'].astype(int)\n",
    "    df_ti['Fare']=df_ti['Fare'].fillna(0)\n",
    "    df_ti.loc[df_ti['Fare']<=7, 'Fare']=0\n",
    "    df_ti.loc[(df_ti['Fare']>7) & (df_ti['Fare']<=14), 'Fare']=1\n",
    "    df_ti.loc[(df_ti['Fare']>14) & (df_ti['Fare']<=31), 'Fare']=2\n",
    "    df_ti.loc[df_ti['Fare']>31, 'Fare']=3\n",
    "\n",
    "df_ti_1['Fare'].value_counts()"
   ]
  },
  {
   "cell_type": "code",
   "execution_count": 37,
   "id": "57abf0bb-0ecb-4de4-baf6-9e7fb25fe0ba",
   "metadata": {},
   "outputs": [
    {
     "data": {
      "text/plain": [
       "Fare\n",
       "0    120\n",
       "2    102\n",
       "3    100\n",
       "1     96\n",
       "Name: count, dtype: int64"
      ]
     },
     "execution_count": 37,
     "metadata": {},
     "output_type": "execute_result"
    }
   ],
   "source": [
    "df_ti_2['Fare'].value_counts()"
   ]
  },
  {
   "cell_type": "code",
   "execution_count": 38,
   "id": "47acd1fe-d575-4be5-9bd3-6067694a62a5",
   "metadata": {},
   "outputs": [],
   "source": [
    "df_ti_1['Fare_per_head']=df_ti_1['Fare']/(df_ti_1['Relatives']+1)\n",
    "df_ti_1['Fare_per_head']=df_ti_1['Fare_per_head'].astype(int)\n",
    "\n",
    "df_ti_2['Fare_per_head']=df_ti_2['Fare']/(df_ti_2['Relatives']+1)\n",
    "df_ti_2['Fare_per_head']=df_ti_2['Fare_per_head'].astype(int)"
   ]
  },
  {
   "cell_type": "code",
   "execution_count": 39,
   "id": "6ec46b10-a5d7-44f9-bd1c-e58813a83c02",
   "metadata": {},
   "outputs": [
    {
     "data": {
      "text/html": [
       "<div>\n",
       "<style scoped>\n",
       "    .dataframe tbody tr th:only-of-type {\n",
       "        vertical-align: middle;\n",
       "    }\n",
       "\n",
       "    .dataframe tbody tr th {\n",
       "        vertical-align: top;\n",
       "    }\n",
       "\n",
       "    .dataframe thead th {\n",
       "        text-align: right;\n",
       "    }\n",
       "</style>\n",
       "<table border=\"1\" class=\"dataframe\">\n",
       "  <thead>\n",
       "    <tr style=\"text-align: right;\">\n",
       "      <th></th>\n",
       "      <th>Survived</th>\n",
       "      <th>Pclass</th>\n",
       "      <th>Sex</th>\n",
       "      <th>Age</th>\n",
       "      <th>SibSp</th>\n",
       "      <th>Parch</th>\n",
       "      <th>Fare</th>\n",
       "      <th>Embarked</th>\n",
       "      <th>Deck</th>\n",
       "      <th>Title</th>\n",
       "      <th>Relatives</th>\n",
       "      <th>Fare_per_head</th>\n",
       "    </tr>\n",
       "  </thead>\n",
       "  <tbody>\n",
       "    <tr>\n",
       "      <th>0</th>\n",
       "      <td>0</td>\n",
       "      <td>3</td>\n",
       "      <td>0</td>\n",
       "      <td>2</td>\n",
       "      <td>1</td>\n",
       "      <td>0</td>\n",
       "      <td>0</td>\n",
       "      <td>0</td>\n",
       "      <td>8</td>\n",
       "      <td>1</td>\n",
       "      <td>1</td>\n",
       "      <td>0</td>\n",
       "    </tr>\n",
       "    <tr>\n",
       "      <th>1</th>\n",
       "      <td>1</td>\n",
       "      <td>1</td>\n",
       "      <td>1</td>\n",
       "      <td>3</td>\n",
       "      <td>1</td>\n",
       "      <td>0</td>\n",
       "      <td>3</td>\n",
       "      <td>1</td>\n",
       "      <td>3</td>\n",
       "      <td>3</td>\n",
       "      <td>1</td>\n",
       "      <td>1</td>\n",
       "    </tr>\n",
       "    <tr>\n",
       "      <th>2</th>\n",
       "      <td>1</td>\n",
       "      <td>3</td>\n",
       "      <td>1</td>\n",
       "      <td>3</td>\n",
       "      <td>0</td>\n",
       "      <td>0</td>\n",
       "      <td>0</td>\n",
       "      <td>0</td>\n",
       "      <td>8</td>\n",
       "      <td>2</td>\n",
       "      <td>0</td>\n",
       "      <td>0</td>\n",
       "    </tr>\n",
       "    <tr>\n",
       "      <th>3</th>\n",
       "      <td>1</td>\n",
       "      <td>1</td>\n",
       "      <td>1</td>\n",
       "      <td>3</td>\n",
       "      <td>1</td>\n",
       "      <td>0</td>\n",
       "      <td>3</td>\n",
       "      <td>0</td>\n",
       "      <td>3</td>\n",
       "      <td>3</td>\n",
       "      <td>1</td>\n",
       "      <td>1</td>\n",
       "    </tr>\n",
       "    <tr>\n",
       "      <th>4</th>\n",
       "      <td>0</td>\n",
       "      <td>3</td>\n",
       "      <td>0</td>\n",
       "      <td>3</td>\n",
       "      <td>0</td>\n",
       "      <td>0</td>\n",
       "      <td>1</td>\n",
       "      <td>0</td>\n",
       "      <td>8</td>\n",
       "      <td>1</td>\n",
       "      <td>0</td>\n",
       "      <td>1</td>\n",
       "    </tr>\n",
       "    <tr>\n",
       "      <th>5</th>\n",
       "      <td>0</td>\n",
       "      <td>3</td>\n",
       "      <td>0</td>\n",
       "      <td>3</td>\n",
       "      <td>0</td>\n",
       "      <td>0</td>\n",
       "      <td>1</td>\n",
       "      <td>2</td>\n",
       "      <td>8</td>\n",
       "      <td>1</td>\n",
       "      <td>0</td>\n",
       "      <td>1</td>\n",
       "    </tr>\n",
       "    <tr>\n",
       "      <th>6</th>\n",
       "      <td>0</td>\n",
       "      <td>1</td>\n",
       "      <td>0</td>\n",
       "      <td>4</td>\n",
       "      <td>0</td>\n",
       "      <td>0</td>\n",
       "      <td>3</td>\n",
       "      <td>0</td>\n",
       "      <td>5</td>\n",
       "      <td>1</td>\n",
       "      <td>0</td>\n",
       "      <td>3</td>\n",
       "    </tr>\n",
       "    <tr>\n",
       "      <th>7</th>\n",
       "      <td>0</td>\n",
       "      <td>3</td>\n",
       "      <td>0</td>\n",
       "      <td>0</td>\n",
       "      <td>3</td>\n",
       "      <td>1</td>\n",
       "      <td>2</td>\n",
       "      <td>0</td>\n",
       "      <td>8</td>\n",
       "      <td>4</td>\n",
       "      <td>4</td>\n",
       "      <td>0</td>\n",
       "    </tr>\n",
       "    <tr>\n",
       "      <th>8</th>\n",
       "      <td>1</td>\n",
       "      <td>3</td>\n",
       "      <td>1</td>\n",
       "      <td>3</td>\n",
       "      <td>0</td>\n",
       "      <td>2</td>\n",
       "      <td>1</td>\n",
       "      <td>0</td>\n",
       "      <td>8</td>\n",
       "      <td>3</td>\n",
       "      <td>2</td>\n",
       "      <td>0</td>\n",
       "    </tr>\n",
       "    <tr>\n",
       "      <th>9</th>\n",
       "      <td>1</td>\n",
       "      <td>2</td>\n",
       "      <td>1</td>\n",
       "      <td>1</td>\n",
       "      <td>1</td>\n",
       "      <td>0</td>\n",
       "      <td>2</td>\n",
       "      <td>1</td>\n",
       "      <td>8</td>\n",
       "      <td>3</td>\n",
       "      <td>1</td>\n",
       "      <td>1</td>\n",
       "    </tr>\n",
       "  </tbody>\n",
       "</table>\n",
       "</div>"
      ],
      "text/plain": [
       "   Survived  Pclass  Sex  Age  SibSp  Parch  Fare  Embarked  Deck  Title  \\\n",
       "0         0       3    0    2      1      0     0         0     8      1   \n",
       "1         1       1    1    3      1      0     3         1     3      3   \n",
       "2         1       3    1    3      0      0     0         0     8      2   \n",
       "3         1       1    1    3      1      0     3         0     3      3   \n",
       "4         0       3    0    3      0      0     1         0     8      1   \n",
       "5         0       3    0    3      0      0     1         2     8      1   \n",
       "6         0       1    0    4      0      0     3         0     5      1   \n",
       "7         0       3    0    0      3      1     2         0     8      4   \n",
       "8         1       3    1    3      0      2     1         0     8      3   \n",
       "9         1       2    1    1      1      0     2         1     8      3   \n",
       "\n",
       "   Relatives  Fare_per_head  \n",
       "0          1              0  \n",
       "1          1              1  \n",
       "2          0              0  \n",
       "3          1              1  \n",
       "4          0              1  \n",
       "5          0              1  \n",
       "6          0              3  \n",
       "7          4              0  \n",
       "8          2              0  \n",
       "9          1              1  "
      ]
     },
     "execution_count": 39,
     "metadata": {},
     "output_type": "execute_result"
    }
   ],
   "source": [
    "df_ti_1.head(10)"
   ]
  },
  {
   "cell_type": "code",
   "execution_count": 40,
   "id": "c9bdeba4-c965-45d7-937e-af6b4d6ba92e",
   "metadata": {},
   "outputs": [
    {
     "data": {
      "text/html": [
       "<div>\n",
       "<style scoped>\n",
       "    .dataframe tbody tr th:only-of-type {\n",
       "        vertical-align: middle;\n",
       "    }\n",
       "\n",
       "    .dataframe tbody tr th {\n",
       "        vertical-align: top;\n",
       "    }\n",
       "\n",
       "    .dataframe thead th {\n",
       "        text-align: right;\n",
       "    }\n",
       "</style>\n",
       "<table border=\"1\" class=\"dataframe\">\n",
       "  <thead>\n",
       "    <tr style=\"text-align: right;\">\n",
       "      <th></th>\n",
       "      <th>PassengerId</th>\n",
       "      <th>Pclass</th>\n",
       "      <th>Sex</th>\n",
       "      <th>Age</th>\n",
       "      <th>SibSp</th>\n",
       "      <th>Parch</th>\n",
       "      <th>Fare</th>\n",
       "      <th>Embarked</th>\n",
       "      <th>Deck</th>\n",
       "      <th>Title</th>\n",
       "      <th>Relatives</th>\n",
       "      <th>Fare_per_head</th>\n",
       "    </tr>\n",
       "  </thead>\n",
       "  <tbody>\n",
       "    <tr>\n",
       "      <th>0</th>\n",
       "      <td>892</td>\n",
       "      <td>3</td>\n",
       "      <td>0</td>\n",
       "      <td>3</td>\n",
       "      <td>0</td>\n",
       "      <td>0</td>\n",
       "      <td>0</td>\n",
       "      <td>2</td>\n",
       "      <td>8</td>\n",
       "      <td>1</td>\n",
       "      <td>0</td>\n",
       "      <td>0</td>\n",
       "    </tr>\n",
       "    <tr>\n",
       "      <th>1</th>\n",
       "      <td>893</td>\n",
       "      <td>3</td>\n",
       "      <td>1</td>\n",
       "      <td>4</td>\n",
       "      <td>1</td>\n",
       "      <td>0</td>\n",
       "      <td>0</td>\n",
       "      <td>0</td>\n",
       "      <td>8</td>\n",
       "      <td>3</td>\n",
       "      <td>1</td>\n",
       "      <td>0</td>\n",
       "    </tr>\n",
       "    <tr>\n",
       "      <th>2</th>\n",
       "      <td>894</td>\n",
       "      <td>2</td>\n",
       "      <td>0</td>\n",
       "      <td>5</td>\n",
       "      <td>0</td>\n",
       "      <td>0</td>\n",
       "      <td>1</td>\n",
       "      <td>2</td>\n",
       "      <td>8</td>\n",
       "      <td>1</td>\n",
       "      <td>0</td>\n",
       "      <td>1</td>\n",
       "    </tr>\n",
       "    <tr>\n",
       "      <th>3</th>\n",
       "      <td>895</td>\n",
       "      <td>3</td>\n",
       "      <td>0</td>\n",
       "      <td>3</td>\n",
       "      <td>0</td>\n",
       "      <td>0</td>\n",
       "      <td>1</td>\n",
       "      <td>0</td>\n",
       "      <td>8</td>\n",
       "      <td>1</td>\n",
       "      <td>0</td>\n",
       "      <td>1</td>\n",
       "    </tr>\n",
       "    <tr>\n",
       "      <th>4</th>\n",
       "      <td>896</td>\n",
       "      <td>3</td>\n",
       "      <td>1</td>\n",
       "      <td>2</td>\n",
       "      <td>1</td>\n",
       "      <td>1</td>\n",
       "      <td>1</td>\n",
       "      <td>0</td>\n",
       "      <td>8</td>\n",
       "      <td>3</td>\n",
       "      <td>2</td>\n",
       "      <td>0</td>\n",
       "    </tr>\n",
       "  </tbody>\n",
       "</table>\n",
       "</div>"
      ],
      "text/plain": [
       "   PassengerId  Pclass  Sex  Age  SibSp  Parch  Fare  Embarked  Deck  Title  \\\n",
       "0          892       3    0    3      0      0     0         2     8      1   \n",
       "1          893       3    1    4      1      0     0         0     8      3   \n",
       "2          894       2    0    5      0      0     1         2     8      1   \n",
       "3          895       3    0    3      0      0     1         0     8      1   \n",
       "4          896       3    1    2      1      1     1         0     8      3   \n",
       "\n",
       "   Relatives  Fare_per_head  \n",
       "0          0              0  \n",
       "1          1              0  \n",
       "2          0              1  \n",
       "3          0              1  \n",
       "4          2              0  "
      ]
     },
     "execution_count": 40,
     "metadata": {},
     "output_type": "execute_result"
    }
   ],
   "source": [
    "df_ti_2.head()"
   ]
  },
  {
   "cell_type": "code",
   "execution_count": 41,
   "id": "de193a72-89e1-4a31-8e22-472b91f0d937",
   "metadata": {},
   "outputs": [],
   "source": [
    "X_train=df_ti_1.drop(\"Survived\", axis=1)\n",
    "Y_train=df_ti_1[\"Survived\"]\n",
    "X_test=df_ti_2.drop(\"PassengerId\", axis=1).copy()\n",
    "Y_test=df_ti_test_res[\"Survived\"]\n"
   ]
  },
  {
   "cell_type": "code",
   "execution_count": 42,
   "id": "cfc71e1e-e5ca-4bf1-853f-2720c2503ff5",
   "metadata": {},
   "outputs": [
    {
     "name": "stdout",
     "output_type": "stream",
     "text": [
      "Confusion Matrix:\n",
      "[[250  16]\n",
      " [  9 143]]\n",
      "Classification Report:\n",
      "              precision    recall  f1-score   support\n",
      "\n",
      "           0       0.97      0.94      0.95       266\n",
      "           1       0.90      0.94      0.92       152\n",
      "\n",
      "    accuracy                           0.94       418\n",
      "   macro avg       0.93      0.94      0.94       418\n",
      "weighted avg       0.94      0.94      0.94       418\n",
      "\n"
     ]
    }
   ],
   "source": [
    "from sklearn.metrics import confusion_matrix, classification_report\n",
    "logreg = LogisticRegression()\n",
    "logreg.fit(X_train, Y_train)\n",
    "Y_pred = logreg.predict(X_test)\n",
    "conf_matrix = confusion_matrix(Y_test, Y_pred)\n",
    "print(\"Confusion Matrix:\")\n",
    "print(conf_matrix)\n",
    "class_report = classification_report(Y_test, Y_pred)\n",
    "print(\"Classification Report:\")\n",
    "print(class_report)\n",
    "\n",
    "\n"
   ]
  },
  {
   "cell_type": "code",
   "execution_count": 43,
   "id": "e1f3be1d-42a2-42d5-8883-856c556e679f",
   "metadata": {},
   "outputs": [
    {
     "data": {
      "text/plain": [
       "Text(0.5, 1.0, 'Confusion Matrix')"
      ]
     },
     "execution_count": 43,
     "metadata": {},
     "output_type": "execute_result"
    },
    {
     "data": {
      "image/png": "[encoded data removed]",
      "text/plain": [
       "<Figure size 640x480 with 2 Axes>"
      ]
     },
     "metadata": {},
     "output_type": "display_data"
    }
   ],
   "source": [
    "import seaborn as sns\n",
    "import matplotlib.pyplot as plt\n",
    "sns.heatmap(conf_matrix, annot=True, fmt='d', cmap='Blues', annot_kws={\"size\": 16})\n",
    "plt.xlabel('Predicted')\n",
    "plt.ylabel('Actual')\n",
    "plt.title('Confusion Matrix')"
   ]
  },
  {
   "cell_type": "code",
   "execution_count": 44,
   "id": "f47bd94c-ad89-4608-b37d-5a16df8b764a",
   "metadata": {},
   "outputs": [
    {
     "data": {
      "text/html": [
       "<style>#sk-container-id-1 {color: black;}#sk-container-id-1 pre{padding: 0;}#sk-container-id-1 div.sk-toggleable {background-color: white;}#sk-container-id-1 label.sk-toggleable__label {cursor: pointer;display: block;width: 100%;margin-bottom: 0;padding: 0.3em;box-sizing: border-box;text-align: center;}#sk-container-id-1 label.sk-toggleable__label-arrow:before {content: \"▸\";float: left;margin-right: 0.25em;color: #696969;}#sk-container-id-1 label.sk-toggleable__label-arrow:hover:before {color: black;}#sk-container-id-1 div.sk-estimator:hover label.sk-toggleable__label-arrow:before {color: black;}#sk-container-id-1 div.sk-toggleable__content {max-height: 0;max-width: 0;overflow: hidden;text-align: left;background-color: #f0f8ff;}#sk-container-id-1 div.sk-toggleable__content pre {margin: 0.2em;color: black;border-radius: 0.25em;background-color: #f0f8ff;}#sk-container-id-1 input.sk-toggleable__control:checked~div.sk-toggleable__content {max-height: 200px;max-width: 100%;overflow: auto;}#sk-container-id-1 input.sk-toggleable__control:checked~label.sk-toggleable__label-arrow:before {content: \"▾\";}#sk-container-id-1 div.sk-estimator input.sk-toggleable__control:checked~label.sk-toggleable__label {background-color: #d4ebff;}#sk-container-id-1 div.sk-label input.sk-toggleable__control:checked~label.sk-toggleable__label {background-color: #d4ebff;}#sk-container-id-1 input.sk-hidden--visually {border: 0;clip: rect(1px 1px 1px 1px);clip: rect(1px, 1px, 1px, 1px);height: 1px;margin: -1px;overflow: hidden;padding: 0;position: absolute;width: 1px;}#sk-container-id-1 div.sk-estimator {font-family: monospace;background-color: #f0f8ff;border: 1px dotted black;border-radius: 0.25em;box-sizing: border-box;margin-bottom: 0.5em;}#sk-container-id-1 div.sk-estimator:hover {background-color: #d4ebff;}#sk-container-id-1 div.sk-parallel-item::after {content: \"\";width: 100%;border-bottom: 1px solid gray;flex-grow: 1;}#sk-container-id-1 div.sk-label:hover label.sk-toggleable__label {background-color: #d4ebff;}#sk-container-id-1 div.sk-serial::before {content: \"\";position: absolute;border-left: 1px solid gray;box-sizing: border-box;top: 0;bottom: 0;left: 50%;z-index: 0;}#sk-container-id-1 div.sk-serial {display: flex;flex-direction: column;align-items: center;background-color: white;padding-right: 0.2em;padding-left: 0.2em;position: relative;}#sk-container-id-1 div.sk-item {position: relative;z-index: 1;}#sk-container-id-1 div.sk-parallel {display: flex;align-items: stretch;justify-content: center;background-color: white;position: relative;}#sk-container-id-1 div.sk-item::before, #sk-container-id-1 div.sk-parallel-item::before {content: \"\";position: absolute;border-left: 1px solid gray;box-sizing: border-box;top: 0;bottom: 0;left: 50%;z-index: -1;}#sk-container-id-1 div.sk-parallel-item {display: flex;flex-direction: column;z-index: 1;position: relative;background-color: white;}#sk-container-id-1 div.sk-parallel-item:first-child::after {align-self: flex-end;width: 50%;}#sk-container-id-1 div.sk-parallel-item:last-child::after {align-self: flex-start;width: 50%;}#sk-container-id-1 div.sk-parallel-item:only-child::after {width: 0;}#sk-container-id-1 div.sk-dashed-wrapped {border: 1px dashed gray;margin: 0 0.4em 0.5em 0.4em;box-sizing: border-box;padding-bottom: 0.4em;background-color: white;}#sk-container-id-1 div.sk-label label {font-family: monospace;font-weight: bold;display: inline-block;line-height: 1.2em;}#sk-container-id-1 div.sk-label-container {text-align: center;}#sk-container-id-1 div.sk-container {/* jupyter's `normalize.less` sets `[hidden] { display: none; }` but bootstrap.min.css set `[hidden] { display: none !important; }` so we also need the `!important` here to be able to override the default hidden behavior on the sphinx rendered scikit-learn.org. See: https://github.com/scikit-learn/scikit-learn/issues/21755 */display: inline-block !important;position: relative;}#sk-container-id-1 div.sk-text-repr-fallback {display: none;}</style><div id=\"sk-container-id-1\" class=\"sk-top-container\"><div class=\"sk-text-repr-fallback\"><pre>RandomForestClassifier(criterion=&#x27;entropy&#x27;, n_estimators=50, random_state=42)</pre><b>In a Jupyter environment, please rerun this cell to show the HTML representation or trust the notebook. <br />On GitHub, the HTML representation is unable to render, please try loading this page with nbviewer.org.</b></div><div class=\"sk-container\" hidden><div class=\"sk-item\"><div class=\"sk-estimator sk-toggleable\"><input class=\"sk-toggleable__control sk-hidden--visually\" id=\"sk-estimator-id-1\" type=\"checkbox\" checked><label for=\"sk-estimator-id-1\" class=\"sk-toggleable__label sk-toggleable__label-arrow\">RandomForestClassifier</label><div class=\"sk-toggleable__content\"><pre>RandomForestClassifier(criterion=&#x27;entropy&#x27;, n_estimators=50, random_state=42)</pre></div></div></div></div></div>"
      ],
      "text/plain": [
       "RandomForestClassifier(criterion='entropy', n_estimators=50, random_state=42)"
      ]
     },
     "execution_count": 44,
     "metadata": {},
     "output_type": "execute_result"
    }
   ],
   "source": [
    "from sklearn.ensemble import RandomForestClassifier\n",
    "rfc = RandomForestClassifier(n_estimators=50, criterion='entropy', random_state=42)\n",
    "rfc.fit(X_train, Y_train)"
   ]
  },
  {
   "cell_type": "code",
   "execution_count": 45,
   "id": "9e369f55-34e3-46db-8d7b-5b1ffcd7e73c",
   "metadata": {},
   "outputs": [
    {
     "name": "stdout",
     "output_type": "stream",
     "text": [
      "0.9401913875598086\n",
      "0.8492822966507177\n"
     ]
    }
   ],
   "source": [
    "Y_pred_2=rfc.predict(X_test)\n",
    "conf_matrix_2=confusion_matrix(Y_test, Y_pred_2)\n",
    "score=metrics.accuracy_score(Y_pred, Y_test)\n",
    "score2=metrics.accuracy_score(Y_pred_2, Y_test)\n",
    "print(score)\n",
    "print(score2)"
   ]
  },
  {
   "cell_type": "code",
   "execution_count": 46,
   "id": "6f668bf4-fe09-4ab3-9374-696f00c0c5c8",
   "metadata": {},
   "outputs": [
    {
     "name": "stdout",
     "output_type": "stream",
     "text": [
      "0.8421052631578947\n"
     ]
    }
   ],
   "source": [
    "rfc = RandomForestClassifier(n_estimators=200, criterion='entropy', random_state=42)\n",
    "rfc.fit(X_train, Y_train)\n",
    "Y_pred_2=rfc.predict(X_test)\n",
    "conf_matrix_2=confusion_matrix(Y_test, Y_pred_2)\n",
    "score2=metrics.accuracy_score(Y_pred_2, Y_test)\n",
    "print(score2)"
   ]
  }
 ],
 "metadata": {
  "kernelspec": {
   "display_name": "Python 3 (ipykernel)",
   "language": "python",
   "name": "python3"
  },
  "language_info": {
   "codemirror_mode": {
    "name": "ipython",
    "version": 3
   },
   "file_extension": ".py",
   "mimetype": "text/x-python",
   "name": "python",
   "nbconvert_exporter": "python",
   "pygments_lexer": "ipython3",
   "version": "3.8.17"
  }
 },
 "nbformat": 4,
 "nbformat_minor": 5
}
