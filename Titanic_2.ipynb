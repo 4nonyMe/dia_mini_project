{
 "cells": [
  {
   "cell_type": "code",
   "execution_count": 1,
   "id": "b2ce4d55-81f6-49ea-a95a-be9e465cb3d8",
   "metadata": {},
   "outputs": [],
   "source": [
    "import numpy as np\n",
    "import pandas as pd\n",
    "from sklearn.linear_model import LogisticRegression\n",
    "from sklearn.model_selection import train_test_split\n",
    "import sklearn.metrics as metrics\n",
    "import re\n",
    "from sklearn.metrics import confusion_matrix, classification_report\n",
    "import seaborn as sns\n",
    "import matplotlib.pyplot as plt\n",
    "from sklearn.ensemble import RandomForestClassifier\n",
    "from sklearn.model_selection import GridSearchCV"
   ]
  },
  {
   "cell_type": "code",
   "execution_count": 2,
   "id": "12856709-d6ca-45fd-b45f-f538e2f61eca",
   "metadata": {},
   "outputs": [],
   "source": [
    "df_ti_train=pd.read_csv(\"C:/Users/Augustin/Desktop/Dorset 23/DIA/Titanic/train.csv\")\n",
    "df_ti_test=pd.read_csv(\"C:/Users/Augustin/Desktop/Dorset 23/DIA/Titanic/test.csv\")\n",
    "df_ti_test_res=pd.read_csv(\"C:/Users/Augustin/Desktop/Dorset 23/DIA/Titanic/gender_submission.csv\")"
   ]
  },
  {
   "cell_type": "code",
   "execution_count": 3,
   "id": "5b29b527-6f75-40a4-b344-f34202b76b48",
   "metadata": {},
   "outputs": [
    {
     "name": "stdout",
     "output_type": "stream",
     "text": [
      "['PassengerId', 'Survived', 'Pclass', 'Name', 'Sex', 'Age', 'SibSp', 'Parch', 'Ticket', 'Fare', 'Cabin', 'Embarked']\n",
      "(891, 12)\n",
      "['PassengerId', 'Pclass', 'Name', 'Sex', 'Age', 'SibSp', 'Parch', 'Ticket', 'Fare', 'Cabin', 'Embarked']\n",
      "(418, 11)\n"
     ]
    }
   ],
   "source": [
    "print(df_ti_train.columns.tolist())\n",
    "print(df_ti_train.shape)\n",
    "print(df_ti_test.columns.tolist())\n",
    "print(df_ti_test.shape)"
   ]
  },
  {
   "cell_type": "code",
   "execution_count": 4,
   "id": "701f6f37-b889-4d04-b137-46e8af475ab0",
   "metadata": {
    "scrolled": true
   },
   "outputs": [
    {
     "name": "stdout",
     "output_type": "stream",
     "text": [
      "PassengerId      int64\n",
      "Survived         int64\n",
      "Pclass           int64\n",
      "Name            object\n",
      "Sex             object\n",
      "Age            float64\n",
      "SibSp            int64\n",
      "Parch            int64\n",
      "Ticket          object\n",
      "Fare           float64\n",
      "Cabin           object\n",
      "Embarked        object\n",
      "dtype: object\n"
     ]
    }
   ],
   "source": [
    "print(df_ti_train.dtypes)"
   ]
  },
  {
   "cell_type": "code",
   "execution_count": 5,
   "id": "243bd134-c075-4fbd-b3ed-385ac289a5bd",
   "metadata": {},
   "outputs": [],
   "source": [
    "df_ti_1=df_ti_train.drop(\"PassengerId\", axis=1)\n",
    "df_ti_1=df_ti_1.drop(\"Ticket\", axis=1)\n",
    "df_ti_2=df_ti_test.copy()\n",
    "df_ti_2=df_ti_2.drop(\"Ticket\", axis=1)"
   ]
  },
  {
   "cell_type": "code",
   "execution_count": 6,
   "id": "dc483c2c-e6d9-43b4-bb92-4b2cc8f52a18",
   "metadata": {
    "scrolled": true
   },
   "outputs": [
    {
     "name": "stdout",
     "output_type": "stream",
     "text": [
      "0                               Braund, Mr. Owen Harris\n",
      "1     Cumings, Mrs. John Bradley (Florence Briggs Th...\n",
      "2                                Heikkinen, Miss. Laina\n",
      "3          Futrelle, Mrs. Jacques Heath (Lily May Peel)\n",
      "4                              Allen, Mr. William Henry\n",
      "5                                      Moran, Mr. James\n",
      "6                               McCarthy, Mr. Timothy J\n",
      "7                        Palsson, Master. Gosta Leonard\n",
      "8     Johnson, Mrs. Oscar W (Elisabeth Vilhelmina Berg)\n",
      "9                   Nasser, Mrs. Nicholas (Adele Achem)\n",
      "10                      Sandstrom, Miss. Marguerite Rut\n",
      "11                             Bonnell, Miss. Elizabeth\n",
      "12                       Saundercock, Mr. William Henry\n",
      "13                          Andersson, Mr. Anders Johan\n",
      "14                 Vestrom, Miss. Hulda Amanda Adolfina\n",
      "15                     Hewlett, Mrs. (Mary D Kingcome) \n",
      "16                                 Rice, Master. Eugene\n",
      "17                         Williams, Mr. Charles Eugene\n",
      "18    Vander Planke, Mrs. Julius (Emelia Maria Vande...\n",
      "19                              Masselmani, Mrs. Fatima\n",
      "Name: Name, dtype: object\n"
     ]
    }
   ],
   "source": [
    "print(df_ti_1[\"Name\"].head(20))"
   ]
  },
  {
   "cell_type": "code",
   "execution_count": 7,
   "id": "4b0e975f-7e89-43cd-a7a5-1e53b94ad56b",
   "metadata": {
    "scrolled": true
   },
   "outputs": [
    {
     "name": "stdout",
     "output_type": "stream",
     "text": [
      "['Mr' 'Mrs' 'Miss' 'Master' 'Don' 'Rev' 'Dr' 'Mme' 'Ms' 'Major' 'Lady'\n",
      " 'Sir' 'Mlle' 'Col' 'Capt' 'Countess' 'Jonkheer']\n",
      "['Mr' 'Mrs' 'Miss' 'Master' 'Ms' 'Col' 'Rev' 'Dr' 'Dona']\n",
      "Title\n",
      "Mr          517\n",
      "Miss        182\n",
      "Mrs         125\n",
      "Master       40\n",
      "Dr            7\n",
      "Rev           6\n",
      "Mlle          2\n",
      "Major         2\n",
      "Col           2\n",
      "Countess      1\n",
      "Capt          1\n",
      "Ms            1\n",
      "Sir           1\n",
      "Lady          1\n",
      "Mme           1\n",
      "Don           1\n",
      "Jonkheer      1\n",
      "Name: count, dtype: int64\n",
      "Title\n",
      "Mr        240\n",
      "Miss       78\n",
      "Mrs        72\n",
      "Master     21\n",
      "Col         2\n",
      "Rev         2\n",
      "Ms          1\n",
      "Dr          1\n",
      "Dona        1\n",
      "Name: count, dtype: int64\n"
     ]
    }
   ],
   "source": [
    "df_ti_1['Title'] = df_ti_1.Name.str.extract(' ([A-Za-z]+)\\.', expand=False)\n",
    "df_ti_2['Title'] = df_ti_2.Name.str.extract(' ([A-Za-z]+)\\.', expand=False)\n",
    "all_titles_1=df_ti_1['Title'].unique()\n",
    "all_titles_2=df_ti_2['Title'].unique()\n",
    "print(all_titles_1)\n",
    "print(all_titles_2)\n",
    "print(df_ti_1['Title'].value_counts())\n",
    "print(df_ti_2['Title'].value_counts())"
   ]
  },
  {
   "cell_type": "code",
   "execution_count": 8,
   "id": "93d370ae-b32c-4ac9-b580-a5027c24f6fe",
   "metadata": {},
   "outputs": [
    {
     "name": "stdout",
     "output_type": "stream",
     "text": [
      "['Capt' 'Col' 'Countess' 'Don' 'Dr' 'Jonkheer' 'Lady' 'Major' 'Mlle' 'Mme'\n",
      " 'Ms' 'Rev' 'Sir']\n",
      "['Col' 'Dona' 'Dr' 'Ms' 'Rev']\n"
     ]
    }
   ],
   "source": [
    "titles_to_exclude = ['Mr', 'Mrs', 'Miss', 'Master']\n",
    "filtered_titles_1 = df_ti_1.loc[~df_ti_1[\"Title\"].isin(titles_to_exclude), \"Title\"].values\n",
    "unique_titles_1 = np.unique(filtered_titles_1)\n",
    "print(unique_titles_1)\n",
    "\n",
    "filtered_titles_2 = df_ti_2.loc[~df_ti_2[\"Title\"].isin(titles_to_exclude), \"Title\"].values\n",
    "unique_titles_2 = np.unique(filtered_titles_2)\n",
    "print(unique_titles_2)"
   ]
  },
  {
   "cell_type": "code",
   "execution_count": 9,
   "id": "5bf10d25-1c94-4ee6-91ca-17d4fc698f24",
   "metadata": {},
   "outputs": [],
   "source": [
    "df_ti_1[\"Title\"]=df_ti_1[\"Title\"].replace('Mlle', 'Miss')\n",
    "df_ti_1[\"Title\"]=df_ti_1[\"Title\"].replace('Ms', 'Miss')\n",
    "df_ti_1[\"Title\"]=df_ti_1[\"Title\"].replace('Mme', 'Mrs')\n",
    "\n",
    "df_ti_2[\"Title\"]=df_ti_2[\"Title\"].replace('Mlle', 'Miss')\n",
    "df_ti_2[\"Title\"]=df_ti_2[\"Title\"].replace('Ms', 'Miss')\n",
    "df_ti_2[\"Title\"]=df_ti_2[\"Title\"].replace('Mme', 'Mrs')"
   ]
  },
  {
   "cell_type": "code",
   "execution_count": 10,
   "id": "b946ba4a-b562-4eb7-a94f-879507b694c0",
   "metadata": {},
   "outputs": [
    {
     "name": "stdout",
     "output_type": "stream",
     "text": [
      "['Capt' 'Col' 'Countess' 'Don' 'Dr' 'Jonkheer' 'Lady' 'Major' 'Rev' 'Sir']\n",
      "['Col' 'Dona' 'Dr' 'Rev']\n"
     ]
    }
   ],
   "source": [
    "filtered_titles_1 = df_ti_1.loc[~df_ti_1[\"Title\"].isin(titles_to_exclude), \"Title\"].values\n",
    "unique_titles_1 = np.unique(filtered_titles_1)\n",
    "print(unique_titles_1)\n",
    "filtered_titles_2 = df_ti_2.loc[~df_ti_2[\"Title\"].isin(titles_to_exclude), \"Title\"].values\n",
    "unique_titles_2 = np.unique(filtered_titles_2)\n",
    "print(unique_titles_2)\n",
    "df_ti_1[\"Title\"]=df_ti_1[\"Title\"].replace(unique_titles_1, 'Rare')\n",
    "df_ti_2[\"Title\"]=df_ti_2[\"Title\"].replace(unique_titles_2, 'Rare')"
   ]
  },
  {
   "cell_type": "code",
   "execution_count": 11,
   "id": "43069c59-094e-4098-aad7-07a43ee347ba",
   "metadata": {},
   "outputs": [],
   "source": [
    "titles = {\"Mr\": 1, \"Miss\": 2, \"Mrs\": 3, \"Master\": 4, \"Rare\": 5}\n",
    "df_ti_1['Title'] = df_ti_1['Title'].map(titles)\n",
    "df_ti_1['Title'] = df_ti_1['Title'].fillna(0)\n",
    "\n",
    "df_ti_2['Title'] = df_ti_2['Title'].map(titles)\n",
    "df_ti_2['Title'] = df_ti_2['Title'].fillna(0)"
   ]
  },
  {
   "cell_type": "code",
   "execution_count": 12,
   "id": "d6967b5f-67ab-42de-a911-0673de509927",
   "metadata": {},
   "outputs": [],
   "source": [
    "df_ti_1=df_ti_1.drop(\"Name\", axis=1)\n",
    "df_ti_2=df_ti_2.drop(\"Name\", axis=1)"
   ]
  },
  {
   "cell_type": "code",
   "execution_count": 13,
   "id": "a2d54bd5-a878-45a9-940d-5f49d22f6960",
   "metadata": {},
   "outputs": [],
   "source": [
    "sexs={\"male\":0, \"female\":1}\n",
    "df_ti_1[\"Sex\"]=df_ti_1[\"Sex\"].map(sexs)\n",
    "df_ti_2[\"Sex\"]=df_ti_2[\"Sex\"].map(sexs)"
   ]
  },
  {
   "cell_type": "code",
   "execution_count": 14,
   "id": "4436cde2-0017-4bf3-b1e8-1de9411ab813",
   "metadata": {
    "scrolled": true
   },
   "outputs": [
    {
     "name": "stdout",
     "output_type": "stream",
     "text": [
      "0    3\n",
      "1    4\n",
      "2    3\n",
      "3    4\n",
      "4    4\n",
      "Name: Age, dtype: int32\n",
      "Age\n",
      "3    215\n",
      "4    207\n",
      "0    202\n",
      "2    101\n",
      "5     86\n",
      "1     55\n",
      "6     25\n",
      "Name: count, dtype: int64\n"
     ]
    }
   ],
   "source": [
    "age_intervals = {range(0,10): 1, range(10,20): 2, range(20,30): 3, range(30,45): 4, range(45,60): 5, range(60,100): 6}\n",
    "for df in [df_ti_1, df_ti_2]:\n",
    "    df['Age']=df['Age'].apply(lambda x: next((v for k, v in age_intervals.items() if x in k), 0))\n",
    "    df['Age']=df['Age'].astype(int)\n",
    "    df['Age']=df['Age'].fillna(0)\n",
    "print(df_ti_1['Age'].head())\n",
    "print(df_ti_1['Age'].value_counts())"
   ]
  },
  {
   "cell_type": "code",
   "execution_count": 15,
   "id": "625a7a53-3351-4678-8a9e-d4e65abbc300",
   "metadata": {},
   "outputs": [],
   "source": [
    "df_ti_1['Relatives']=df_ti_1['SibSp']+df_ti_1['Parch']\n",
    "df_ti_2['Relatives']=df_ti_2['SibSp']+df_ti_2['Parch']"
   ]
  },
  {
   "cell_type": "code",
   "execution_count": 16,
   "id": "e0fc2dcb-dfd6-4f6a-a2dc-e50acb2837e0",
   "metadata": {},
   "outputs": [
    {
     "name": "stdout",
     "output_type": "stream",
     "text": [
      "[ 7 14 31]\n",
      "Fare\n",
      "0    241\n",
      "2    223\n",
      "1    216\n",
      "3    211\n",
      "Name: count, dtype: int64\n"
     ]
    }
   ],
   "source": [
    "df_ti_1['Fare']=df_ti_1['Fare'].fillna(0)\n",
    "df_ti_1['Fare']=df_ti_1['Fare'].astype(int)\n",
    "df_ti_2['Fare']=df_ti_2['Fare'].fillna(0)\n",
    "df_ti_2['Fare']=df_ti_2['Fare'].astype(int)\n",
    "quartiles = np.round(np.percentile(df_ti_1['Fare'].dropna(), [25, 50, 75])).astype(int)\n",
    "print(quartiles)\n",
    "for df_ti in [df_ti_1, df_ti_2]:\n",
    "    df_ti.loc[df_ti['Fare']<=quartiles[0], 'Fare']=0\n",
    "    df_ti.loc[(df_ti['Fare']>quartiles[0]) & (df_ti['Fare']<=quartiles[1]), 'Fare']=1\n",
    "    df_ti.loc[(df_ti['Fare']>quartiles[1]) & (df_ti['Fare']<=quartiles[2]), 'Fare']=2\n",
    "    df_ti.loc[df_ti['Fare']>quartiles[2], 'Fare']=3\n",
    "    df_ti['Fare']=df_ti['Fare'].astype(int)\n",
    "    df_ti['Fare']=df_ti['Fare'].fillna(0)\n",
    "print(df_ti_1['Fare'].value_counts())"
   ]
  },
  {
   "cell_type": "code",
   "execution_count": 17,
   "id": "cfdeba51-5bb5-4dba-815c-681f49cfd468",
   "metadata": {},
   "outputs": [
    {
     "name": "stdout",
     "output_type": "stream",
     "text": [
      "0         NaN\n",
      "1         C85\n",
      "2         NaN\n",
      "3        C123\n",
      "4         NaN\n",
      "       ...   \n",
      "95        NaN\n",
      "96         A5\n",
      "97    D10 D12\n",
      "98        NaN\n",
      "99        NaN\n",
      "Name: Cabin, Length: 100, dtype: object\n"
     ]
    }
   ],
   "source": [
    "print(df_ti_1['Cabin'].head(100))"
   ]
  },
  {
   "cell_type": "code",
   "execution_count": 18,
   "id": "23531e30-ea4c-40a3-8ecd-6cdf98173a94",
   "metadata": {},
   "outputs": [
    {
     "name": "stdout",
     "output_type": "stream",
     "text": [
      "['C' 'E' 'G' 'D' 'A' 'B' 'F' 'T']\n",
      "687\n",
      "Cabin\n",
      "C    59\n",
      "B    47\n",
      "D    33\n",
      "E    32\n",
      "A    15\n",
      "F    13\n",
      "G     4\n",
      "T     1\n",
      "Name: count, dtype: int64\n"
     ]
    }
   ],
   "source": [
    "print(df_ti_1['Cabin'].dropna().str.extract(r'([a-zA-Z])', expand=False).unique())\n",
    "print(df_ti_1['Cabin'].isna().sum())\n",
    "print(df_ti_1['Cabin'].dropna().str.extract(r'([a-zA-Z])', expand=False).value_counts())"
   ]
  },
  {
   "cell_type": "code",
   "execution_count": 19,
   "id": "039d8895-e185-462c-8d55-61163dfa0074",
   "metadata": {},
   "outputs": [
    {
     "name": "stdout",
     "output_type": "stream",
     "text": [
      "   Survived  Pclass  Sex  Age  SibSp  Parch  Fare Cabin Embarked  Title  \\\n",
      "0         0       3    0    3      1      0     0    U0        S      1   \n",
      "1         1       1    1    4      1      0     3   C85        C      3   \n",
      "2         1       3    1    3      0      0     0    U0        S      2   \n",
      "3         1       1    1    4      1      0     3  C123        S      3   \n",
      "4         0       3    0    4      0      0     1    U0        S      1   \n",
      "\n",
      "   Relatives  Deck  \n",
      "0          1     8  \n",
      "1          1     3  \n",
      "2          0     8  \n",
      "3          1     3  \n",
      "4          0     8  \n",
      "   PassengerId  Pclass  Sex  Age  SibSp  Parch  Fare Cabin Embarked  Title  \\\n",
      "0          892       3    0    0      0      0     0    U0        Q      1   \n",
      "1          893       3    1    5      1      0     0    U0        S      3   \n",
      "2          894       2    0    6      0      0     1    U0        Q      1   \n",
      "3          895       3    0    3      0      0     1    U0        S      1   \n",
      "4          896       3    1    3      1      1     1    U0        S      3   \n",
      "\n",
      "   Relatives  Deck  \n",
      "0          0     8  \n",
      "1          1     8  \n",
      "2          0     8  \n",
      "3          0     8  \n",
      "4          2     8  \n"
     ]
    }
   ],
   "source": [
    "deck = {\"A\": 1, \"B\": 2, \"C\": 3, \"D\": 4, \"E\": 5, \"F\": 6, (\"G\", \"T\"): 7, \"U\": 8}\n",
    "for df in [df_ti_1, df_ti_2]:\n",
    "    df['Cabin']=df['Cabin'].fillna('U0')\n",
    "    df['Deck']=df['Cabin'].map(lambda x: re.compile(\"([a-zA-Z]+)\").search(x).group() if re.compile(\"([a-zA-Z]+)\").search(x) else 'U')\n",
    "    df['Deck']=df['Deck'].map(deck)\n",
    "    df['Deck']=df['Deck'].fillna(0)\n",
    "    df['Deck']=df['Deck'].astype(int)\n",
    "    print(df.head())\n",
    "df_ti_1=df_ti_1.drop(\"Cabin\", axis=1)\n",
    "df_ti_2=df_ti_2.drop(\"Cabin\", axis=1)"
   ]
  },
  {
   "cell_type": "code",
   "execution_count": 20,
   "id": "ea5fc5e3-5048-4409-96d5-41334e01ede2",
   "metadata": {},
   "outputs": [
    {
     "name": "stdout",
     "output_type": "stream",
     "text": [
      "0    8\n",
      "1    3\n",
      "2    8\n",
      "3    3\n",
      "4    8\n",
      "Name: Deck, dtype: int32\n"
     ]
    }
   ],
   "source": [
    "print(df_ti_1['Deck'].head())"
   ]
  },
  {
   "cell_type": "code",
   "execution_count": 21,
   "id": "ce2f65c5-bd56-4412-be27-4cf358625075",
   "metadata": {},
   "outputs": [
    {
     "name": "stdout",
     "output_type": "stream",
     "text": [
      "['S' 'C' 'Q' nan]\n",
      "Embarked\n",
      "S    644\n",
      "C    168\n",
      "Q     77\n",
      "Name: count, dtype: int64\n"
     ]
    }
   ],
   "source": [
    "emb_1=df_ti_1['Embarked'].unique()\n",
    "print(emb_1)\n",
    "print(df_ti_1['Embarked'].value_counts())"
   ]
  },
  {
   "cell_type": "code",
   "execution_count": 22,
   "id": "f5413b98-c149-4c67-8df8-0199edc4a00b",
   "metadata": {},
   "outputs": [],
   "source": [
    "for df in [df_ti_1, df_ti_2]:\n",
    "    df['Embarked']=df['Embarked'].fillna('S')\n",
    "emb_places={'S':0, 'C':1, 'Q':2}\n",
    "for df in [df_ti_1, df_ti_2]:\n",
    "    df['Embarked']=df[\"Embarked\"].map(emb_places)\n",
    "    df['Embarked']=df[\"Embarked\"].astype(int)"
   ]
  },
  {
   "cell_type": "code",
   "execution_count": 23,
   "id": "a285e655-d5a1-4ae1-89cc-c964732648b4",
   "metadata": {},
   "outputs": [],
   "source": [
    "for df in [df_ti_1, df_ti_2]:\n",
    "    df['Fare_per_head']=df['Fare']/(df['Relatives']+1)"
   ]
  },
  {
   "cell_type": "code",
   "execution_count": 24,
   "id": "43b22a05-d352-4090-9983-084670aac129",
   "metadata": {},
   "outputs": [],
   "source": [
    "X_train=df_ti_1.drop(\"Survived\", axis=1)\n",
    "y_train=df_ti_1[\"Survived\"]\n",
    "X_test=df_ti_2.drop(\"PassengerId\", axis=1).copy()\n",
    "y_test=df_ti_test_res[\"Survived\"]"
   ]
  },
  {
   "cell_type": "code",
   "execution_count": 25,
   "id": "86c27ea2-e487-4e2f-8e74-e5796df27c31",
   "metadata": {
    "scrolled": true
   },
   "outputs": [
    {
     "name": "stdout",
     "output_type": "stream",
     "text": [
      "Classification Report:\n",
      "              precision    recall  f1-score   support\n",
      "\n",
      "           0       0.97      0.97      0.97       266\n",
      "           1       0.95      0.95      0.95       152\n",
      "\n",
      "    accuracy                           0.96       418\n",
      "   macro avg       0.96      0.96      0.96       418\n",
      "weighted avg       0.96      0.96      0.96       418\n",
      "\n"
     ]
    },
    {
     "data": {
      "image/png": "[encoded data removed]",
      "text/plain": [
       "<Figure size 640x480 with 2 Axes>"
      ]
     },
     "metadata": {},
     "output_type": "display_data"
    }
   ],
   "source": [
    "logreg = LogisticRegression()\n",
    "logreg.fit(X_train, y_train)\n",
    "y_pred = logreg.predict(X_test)\n",
    "conf_matrix = confusion_matrix(y_test, y_pred)\n",
    "sns.heatmap(conf_matrix, annot=True, fmt='d', cmap='Blues', annot_kws={\"size\": 16})\n",
    "plt.xlabel('Predicted')\n",
    "plt.ylabel('Actual')\n",
    "plt.title('Confusion Matrix')\n",
    "class_report = classification_report(y_test, y_pred)\n",
    "print(\"Classification Report:\")\n",
    "print(class_report)"
   ]
  },
  {
   "cell_type": "code",
   "execution_count": 26,
   "id": "7972e64c-a539-4d3e-be2b-3624f2a3550b",
   "metadata": {},
   "outputs": [
    {
     "data": {
      "text/html": [
       "<style>#sk-container-id-1 {color: black;}#sk-container-id-1 pre{padding: 0;}#sk-container-id-1 div.sk-toggleable {background-color: white;}#sk-container-id-1 label.sk-toggleable__label {cursor: pointer;display: block;width: 100%;margin-bottom: 0;padding: 0.3em;box-sizing: border-box;text-align: center;}#sk-container-id-1 label.sk-toggleable__label-arrow:before {content: \"▸\";float: left;margin-right: 0.25em;color: #696969;}#sk-container-id-1 label.sk-toggleable__label-arrow:hover:before {color: black;}#sk-container-id-1 div.sk-estimator:hover label.sk-toggleable__label-arrow:before {color: black;}#sk-container-id-1 div.sk-toggleable__content {max-height: 0;max-width: 0;overflow: hidden;text-align: left;background-color: #f0f8ff;}#sk-container-id-1 div.sk-toggleable__content pre {margin: 0.2em;color: black;border-radius: 0.25em;background-color: #f0f8ff;}#sk-container-id-1 input.sk-toggleable__control:checked~div.sk-toggleable__content {max-height: 200px;max-width: 100%;overflow: auto;}#sk-container-id-1 input.sk-toggleable__control:checked~label.sk-toggleable__label-arrow:before {content: \"▾\";}#sk-container-id-1 div.sk-estimator input.sk-toggleable__control:checked~label.sk-toggleable__label {background-color: #d4ebff;}#sk-container-id-1 div.sk-label input.sk-toggleable__control:checked~label.sk-toggleable__label {background-color: #d4ebff;}#sk-container-id-1 input.sk-hidden--visually {border: 0;clip: rect(1px 1px 1px 1px);clip: rect(1px, 1px, 1px, 1px);height: 1px;margin: -1px;overflow: hidden;padding: 0;position: absolute;width: 1px;}#sk-container-id-1 div.sk-estimator {font-family: monospace;background-color: #f0f8ff;border: 1px dotted black;border-radius: 0.25em;box-sizing: border-box;margin-bottom: 0.5em;}#sk-container-id-1 div.sk-estimator:hover {background-color: #d4ebff;}#sk-container-id-1 div.sk-parallel-item::after {content: \"\";width: 100%;border-bottom: 1px solid gray;flex-grow: 1;}#sk-container-id-1 div.sk-label:hover label.sk-toggleable__label {background-color: #d4ebff;}#sk-container-id-1 div.sk-serial::before {content: \"\";position: absolute;border-left: 1px solid gray;box-sizing: border-box;top: 0;bottom: 0;left: 50%;z-index: 0;}#sk-container-id-1 div.sk-serial {display: flex;flex-direction: column;align-items: center;background-color: white;padding-right: 0.2em;padding-left: 0.2em;position: relative;}#sk-container-id-1 div.sk-item {position: relative;z-index: 1;}#sk-container-id-1 div.sk-parallel {display: flex;align-items: stretch;justify-content: center;background-color: white;position: relative;}#sk-container-id-1 div.sk-item::before, #sk-container-id-1 div.sk-parallel-item::before {content: \"\";position: absolute;border-left: 1px solid gray;box-sizing: border-box;top: 0;bottom: 0;left: 50%;z-index: -1;}#sk-container-id-1 div.sk-parallel-item {display: flex;flex-direction: column;z-index: 1;position: relative;background-color: white;}#sk-container-id-1 div.sk-parallel-item:first-child::after {align-self: flex-end;width: 50%;}#sk-container-id-1 div.sk-parallel-item:last-child::after {align-self: flex-start;width: 50%;}#sk-container-id-1 div.sk-parallel-item:only-child::after {width: 0;}#sk-container-id-1 div.sk-dashed-wrapped {border: 1px dashed gray;margin: 0 0.4em 0.5em 0.4em;box-sizing: border-box;padding-bottom: 0.4em;background-color: white;}#sk-container-id-1 div.sk-label label {font-family: monospace;font-weight: bold;display: inline-block;line-height: 1.2em;}#sk-container-id-1 div.sk-label-container {text-align: center;}#sk-container-id-1 div.sk-container {/* jupyter's `normalize.less` sets `[hidden] { display: none; }` but bootstrap.min.css set `[hidden] { display: none !important; }` so we also need the `!important` here to be able to override the default hidden behavior on the sphinx rendered scikit-learn.org. See: https://github.com/scikit-learn/scikit-learn/issues/21755 */display: inline-block !important;position: relative;}#sk-container-id-1 div.sk-text-repr-fallback {display: none;}</style><div id=\"sk-container-id-1\" class=\"sk-top-container\"><div class=\"sk-text-repr-fallback\"><pre>RandomForestClassifier(criterion=&#x27;entropy&#x27;, n_estimators=50, random_state=42)</pre><b>In a Jupyter environment, please rerun this cell to show the HTML representation or trust the notebook. <br />On GitHub, the HTML representation is unable to render, please try loading this page with nbviewer.org.</b></div><div class=\"sk-container\" hidden><div class=\"sk-item\"><div class=\"sk-estimator sk-toggleable\"><input class=\"sk-toggleable__control sk-hidden--visually\" id=\"sk-estimator-id-1\" type=\"checkbox\" checked><label for=\"sk-estimator-id-1\" class=\"sk-toggleable__label sk-toggleable__label-arrow\">RandomForestClassifier</label><div class=\"sk-toggleable__content\"><pre>RandomForestClassifier(criterion=&#x27;entropy&#x27;, n_estimators=50, random_state=42)</pre></div></div></div></div></div>"
      ],
      "text/plain": [
       "RandomForestClassifier(criterion='entropy', n_estimators=50, random_state=42)"
      ]
     },
     "execution_count": 26,
     "metadata": {},
     "output_type": "execute_result"
    }
   ],
   "source": [
    "rfc = RandomForestClassifier(n_estimators=50, criterion='entropy', random_state=42)\n",
    "rfc.fit(X_train, y_train)"
   ]
  },
  {
   "cell_type": "code",
   "execution_count": 27,
   "id": "f5b09d65-7de0-40c8-bf88-fe35c4d42a68",
   "metadata": {
    "scrolled": true
   },
   "outputs": [
    {
     "name": "stdout",
     "output_type": "stream",
     "text": [
      "0.9641148325358851\n",
      "0.8014354066985646\n"
     ]
    },
    {
     "data": {
      "image/png": "[encoded data removed]",
      "text/plain": [
       "<Figure size 640x480 with 2 Axes>"
      ]
     },
     "metadata": {},
     "output_type": "display_data"
    }
   ],
   "source": [
    "y_pred_2=rfc.predict(X_test)\n",
    "conf_matrix_2=confusion_matrix(y_test, y_pred_2)\n",
    "sns.heatmap(conf_matrix_2, annot=True, fmt='d', cmap='Blues', annot_kws={\"size\": 16})\n",
    "plt.xlabel('Predicted')\n",
    "plt.ylabel('Actual')\n",
    "plt.title('Confusion Matrix')\n",
    "score=metrics.accuracy_score(y_pred, y_test)\n",
    "score2=metrics.accuracy_score(y_pred_2, y_test)\n",
    "print(score)\n",
    "print(score2)"
   ]
  },
  {
   "cell_type": "code",
   "execution_count": 37,
   "id": "730fb4f6-abfd-4e6b-a9e9-917fd7c7b63b",
   "metadata": {},
   "outputs": [
    {
     "data": {
      "text/html": [
       "<div>\n",
       "<style scoped>\n",
       "    .dataframe tbody tr th:only-of-type {\n",
       "        vertical-align: middle;\n",
       "    }\n",
       "\n",
       "    .dataframe tbody tr th {\n",
       "        vertical-align: top;\n",
       "    }\n",
       "\n",
       "    .dataframe thead th {\n",
       "        text-align: right;\n",
       "    }\n",
       "</style>\n",
       "<table border=\"1\" class=\"dataframe\">\n",
       "  <thead>\n",
       "    <tr style=\"text-align: right;\">\n",
       "      <th></th>\n",
       "      <th>param_C</th>\n",
       "      <th>mean_test_score</th>\n",
       "    </tr>\n",
       "  </thead>\n",
       "  <tbody>\n",
       "    <tr>\n",
       "      <th>0</th>\n",
       "      <td>0.001</td>\n",
       "      <td>0.689147</td>\n",
       "    </tr>\n",
       "    <tr>\n",
       "      <th>1</th>\n",
       "      <td>0.01</td>\n",
       "      <td>0.754246</td>\n",
       "    </tr>\n",
       "    <tr>\n",
       "      <th>2</th>\n",
       "      <td>0.1</td>\n",
       "      <td>0.796843</td>\n",
       "    </tr>\n",
       "    <tr>\n",
       "      <th>3</th>\n",
       "      <td>1</td>\n",
       "      <td>0.790139</td>\n",
       "    </tr>\n",
       "    <tr>\n",
       "      <th>4</th>\n",
       "      <td>10</td>\n",
       "      <td>0.790139</td>\n",
       "    </tr>\n",
       "    <tr>\n",
       "      <th>5</th>\n",
       "      <td>100</td>\n",
       "      <td>0.790139</td>\n",
       "    </tr>\n",
       "  </tbody>\n",
       "</table>\n",
       "</div>"
      ],
      "text/plain": [
       "  param_C  mean_test_score\n",
       "0   0.001         0.689147\n",
       "1    0.01         0.754246\n",
       "2     0.1         0.796843\n",
       "3       1         0.790139\n",
       "4      10         0.790139\n",
       "5     100         0.790139"
      ]
     },
     "execution_count": 37,
     "metadata": {},
     "output_type": "execute_result"
    }
   ],
   "source": [
    "classifier=GridSearchCV(LogisticRegression(), \n",
    "                        {'C':[0.001, 0.01, 0.1, 1, 10, 100]}, \n",
    "                       cv=5, \n",
    "                       return_train_score=False)\n",
    "classifier.fit(X_train, y_train)\n",
    "df_cl=pd.DataFrame(classifier.cv_results_)\n",
    "df_cl[['param_C','mean_test_score']]"
   ]
  },
  {
   "cell_type": "code",
   "execution_count": 38,
   "id": "a7e57e32-ea07-4cd8-8e14-b73b185a2e3f",
   "metadata": {},
   "outputs": [
    {
     "name": "stdout",
     "output_type": "stream",
     "text": [
      "{'C': 0.1}\n",
      "0.7968426338585148\n"
     ]
    }
   ],
   "source": [
    "print(classifier.best_params_)\n",
    "print(classifier.best_score_)"
   ]
  }
 ],
 "metadata": {
  "kernelspec": {
   "display_name": "Python 3 (ipykernel)",
   "language": "python",
   "name": "python3"
  },
  "language_info": {
   "codemirror_mode": {
    "name": "ipython",
    "version": 3
   },
   "file_extension": ".py",
   "mimetype": "text/x-python",
   "name": "python",
   "nbconvert_exporter": "python",
   "pygments_lexer": "ipython3",
   "version": "3.8.17"
  }
 },
 "nbformat": 4,
 "nbformat_minor": 5
}
